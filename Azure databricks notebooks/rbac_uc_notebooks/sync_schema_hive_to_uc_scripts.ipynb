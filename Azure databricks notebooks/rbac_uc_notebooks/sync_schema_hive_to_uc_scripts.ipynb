{
 "cells": [
  {
   "cell_type": "code",
   "execution_count": 0,
   "metadata": {
    "application/vnd.databricks.v1+cell": {
     "cellMetadata": {
      "byteLimit": 2048000,
      "rowLimit": 10000
     },
     "inputWidgets": {},
     "nuid": "30d6ed43-b8e2-4b16-9086-0acc81e32d7f",
     "showTitle": false,
     "title": ""
    }
   },
   "outputs": [],
   "source": [
    "dbutils.widgets.text(\"env\",\"\")\n",
    "env = dbutils.widgets.get(\"env\")\n",
    "\n",
    "dbutils.widgets.text(\"sync_schema_yes_or_no\",\"\")\n",
    "sync_schema_yes_or_no = dbutils.widgets.get(\"sync_schema_yes_or_no\")"
   ]
  },
  {
   "cell_type": "code",
   "execution_count": 0,
   "metadata": {
    "application/vnd.databricks.v1+cell": {
     "cellMetadata": {},
     "inputWidgets": {},
     "nuid": "838a3b5c-52ac-49dc-b963-3acebe35a667",
     "showTitle": false,
     "title": ""
    }
   },
   "outputs": [],
   "source": [
    "spark.sql(f\"create schema IF NOT EXISTS unitycatalog_telecom.{env}_raw\");\n",
    "spark.sql(f\"create schema IF NOT EXISTS unitycatalog_telecom.{env}_intermediate\");\n",
    "spark.sql(f\"create schema IF NOT EXISTS unitycatalog_telecom.{env}_curated\");\n",
    "spark.sql(f\"create schema IF NOT EXISTS unitycatalog_telecom.metadata_schema\");"
   ]
  },
  {
   "cell_type": "code",
   "execution_count": 0,
   "metadata": {
    "application/vnd.databricks.v1+cell": {
     "cellMetadata": {},
     "inputWidgets": {},
     "nuid": "73dbe26c-37ac-4deb-a551-614045fc40e9",
     "showTitle": false,
     "title": ""
    }
   },
   "outputs": [],
   "source": [
    "if(f\"{sync_schema_yes_or_no}\"=='yes'):\n",
    "    spark.sql(f\"sync schema unitycatalog_telecom.{env}_raw from hive_metastore.{env}_raw\") \n",
    "    spark.sql(f\"sync schema unitycatalog_telecom.{env}_intermediate from hive_metastore.{env}_intermediate\")\n",
    "    spark.sql(f\"sync schema unitycatalog_telecom.{env}_curated from hive_metastore.{env}_curated\")\n",
    "    spark.sql(f\"sync schema unitycatalog_telecom.metadata_schema from hive_metastore.metadata_schema\")\n",
    "    print(\"Sync Schema completed\")\n",
    "else:\n",
    "    print(\"SYNC Schema not executed\")"
   ]
  }
 ],
 "metadata": {
  "application/vnd.databricks.v1+notebook": {
   "dashboards": [],
   "environmentMetadata": {
    "base_environment": "",
    "client": "1"
   },
   "language": "python",
   "notebookMetadata": {
    "mostRecentlyExecutedCommandWithImplicitDF": {
     "commandId": 3722681515886934,
     "dataframes": [
      "_sqldf"
     ]
    },
    "pythonIndentUnit": 4
   },
   "notebookName": "sync_schema_hive_to_uc_scripts",
   "widgets": {
    "env": {
     "currentValue": "",
     "nuid": "5aafe4d2-80e9-4b74-800d-087ea1ed9cf5",
     "typedWidgetInfo": {
      "autoCreated": false,
      "defaultValue": "",
      "label": null,
      "name": "env",
      "options": {
       "widgetDisplayType": "Text",
       "validationRegex": null
      },
      "parameterDataType": "String"
     },
     "widgetInfo": {
      "widgetType": "text",
      "defaultValue": "",
      "label": null,
      "name": "env",
      "options": {
       "widgetType": "text",
       "autoCreated": null,
       "validationRegex": null
      }
     }
    },
    "sync_schema_yes_or_no": {
     "currentValue": "",
     "nuid": "88a50be8-d898-4cf4-9d40-447d730f0b87",
     "typedWidgetInfo": {
      "autoCreated": false,
      "defaultValue": "",
      "label": null,
      "name": "sync_schema_yes_or_no",
      "options": {
       "widgetDisplayType": "Text",
       "validationRegex": null
      },
      "parameterDataType": "String"
     },
     "widgetInfo": {
      "widgetType": "text",
      "defaultValue": "",
      "label": null,
      "name": "sync_schema_yes_or_no",
      "options": {
       "widgetType": "text",
       "autoCreated": null,
       "validationRegex": null
      }
     }
    }
   }
  },
  "language_info": {
   "name": "python"
  }
 },
 "nbformat": 4,
 "nbformat_minor": 0
}
