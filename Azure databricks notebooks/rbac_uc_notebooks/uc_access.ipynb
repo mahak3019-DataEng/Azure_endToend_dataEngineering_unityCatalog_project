{
 "cells": [
  {
   "cell_type": "code",
   "execution_count": 0,
   "metadata": {
    "application/vnd.databricks.v1+cell": {
     "cellMetadata": {},
     "inputWidgets": {},
     "nuid": "7a7e81ad-42ae-4021-95b5-685b0656c924",
     "showTitle": false,
     "title": ""
    }
   },
   "outputs": [],
   "source": [
    "#creating widget to get parameters from ADF\n",
    "\n",
    "dbutils.widgets.text(\"aad_group_name\",\"\")\n",
    "dbutils.widgets.text(\"env\",\"\")\n",
    "dbutils.widgets.text(\"access_type\",\"\")\n",
    "dbutils.widgets.text(\"access_status\",\"\")"
   ]
  },
  {
   "cell_type": "code",
   "execution_count": 0,
   "metadata": {
    "application/vnd.databricks.v1+cell": {
     "cellMetadata": {},
     "inputWidgets": {},
     "nuid": "d57935de-e380-4a6a-948f-cf448aa9382b",
     "showTitle": false,
     "title": ""
    }
   },
   "outputs": [],
   "source": [
    "#creating varibale\n",
    "\n",
    "env= dbutils.widgets.get(\"env\")\n",
    "aad_group_name=dbutils.widgets.get(\"aad_group_name\")\n",
    "access_type= dbutils.widgets.get(\"access_type\");\n",
    "access_status= dbutils.widgets.get(\"access_status\");"
   ]
  },
  {
   "cell_type": "code",
   "execution_count": 0,
   "metadata": {
    "application/vnd.databricks.v1+cell": {
     "cellMetadata": {},
     "inputWidgets": {},
     "nuid": "d86f9131-96e4-4403-8cdf-35de1641285a",
     "showTitle": false,
     "title": ""
    }
   },
   "outputs": [],
   "source": [
    "# UC_ALL_READ = Read access on all the schemas \n",
    "if((f\"{access_status}\"=='grant') and (f\"{access_type}\"=='UC_ALL_READ')):\n",
    "    #ON UNITY CATALOG\n",
    "    #catalog level\n",
    "    spark.sql(f\"grant USE CATALOG on CATALOG unitycatalog_telecom to `{aad_group_name}`\")\n",
    "    #schema level\n",
    "    spark.sql(f\"grant USE SCHEMA on SCHEMA unitycatalog_telecom.{env}_raw to `{aad_group_name}`\")\n",
    "    spark.sql(f\"grant REFRESH on SCHEMA unitycatalog_telecom.{env}_raw to `{aad_group_name}`\")\n",
    "    spark.sql(f\"grant SELECT on SCHEMA unitycatalog_telecom.{env}_raw to `{aad_group_name}`\")\n",
    "    spark.sql(f\"grant USE SCHEMA on SCHEMA unitycatalog_telecom.{env}_intermediate to `{aad_group_name}`\")\n",
    "    spark.sql(f\"grant REFRESH on SCHEMA unitycatalog_telecom.{env}_intermediate to `{aad_group_name}`\")\n",
    "    spark.sql(f\"grant SELECT on SCHEMA unitycatalog_telecom.{env}_intermediate to `{aad_group_name}`\")\n",
    "    spark.sql(f\"grant USE SCHEMA on SCHEMA unitycatalog_telecom.{env}_curated to `{aad_group_name}`\")\n",
    "    spark.sql(f\"grant REFRESH on SCHEMA unitycatalog_telecom.{env}_curated to `{aad_group_name}`\")\n",
    "    spark.sql(f\"grant SELECT on SCHEMA unitycatalog_telecom.{env}_curated to `{aad_group_name}`\")\n",
    "    print(f\"{access_status} if block is executed [{access_type}]\")\n",
    "    #updating access status in metadata table \n",
    "    spark.sql(f\"\"\"update hive_metastore.metadata_schema.tbl_rbac_uc_aad_groups set access_status='granted' where \n",
    "    aad_group_name= '{aad_group_name}' and env='{env}' \"\"\")\n",
    "\n",
    "#for revoking access\n",
    "elif((f\"{access_status}\"=='revoke') and (f\"{access_type}\"=='UC_ALL_READ')):\n",
    "    #catalog level\n",
    "    spark.sql(f\"revoke USE CATALOG on CATALOG unitycatalog_telecom from `{aad_group_name}`\")\n",
    "    #schema level\n",
    "    spark.sql(f\"revoke USE SCHEMA on SCHEMA unitycatalog_telecom.{env}_raw from `{aad_group_name}`\")\n",
    "    spark.sql(f\"revoke REFRESH on SCHEMA unitycatalog_telecom.{env}_raw from `{aad_group_name}`\")\n",
    "    spark.sql(f\"revoke SELECT on SCHEMA unitycatalog_telecom.{env}_raw from `{aad_group_name}`\")\n",
    "    spark.sql(f\"revoke USE SCHEMA on SCHEMA unitycatalog_telecom.{env}_intermediate from `{aad_group_name}`\")\n",
    "    spark.sql(f\"revoke REFRESH on SCHEMA unitycatalog_telecom.{env}_intermediate from `{aad_group_name}`\")\n",
    "    spark.sql(f\"revoke SELECT on SCHEMA unitycatalog_telecom.{env}_intermediate from `{aad_group_name}`\")\n",
    "    spark.sql(f\"REVOKE USE SCHEMA on SCHEMA unitycatalog_telecom.{env}_curated to `{aad_group_name}`\")\n",
    "    spark.sql(f\"revoke REFRESH on SCHEMA unitycatalog_telecom.{env}_curated to `{aad_group_name}`\")\n",
    "    spark.sql(f\"revoke SELECT on SCHEMA unitycatalog_telecom.{env}_curated to `{aad_group_name}`\")\n",
    "    print(f\"{access_status} if block is executed [{access_type}]\")\n",
    "    #updating access status in metadata table \n",
    "    spark.sql(f\"\"\"update hive_metastore.metadata_schema.tbl_rbac_uc_aad_groups set access_status= 'revoked' where \n",
    "    aad_group_name='{aad_group_name}' and env='{env}' \"\"\")\n"
   ]
  },
  {
   "cell_type": "code",
   "execution_count": 0,
   "metadata": {
    "application/vnd.databricks.v1+cell": {
     "cellMetadata": {},
     "inputWidgets": {},
     "nuid": "1b47368a-d2a3-44d7-8063-15e7e89c4d8f",
     "showTitle": false,
     "title": ""
    }
   },
   "outputs": [],
   "source": [
    "#UC_CUR_READ = Read access on curated schema only\n",
    "if((f\"{access_status}\"=='grant') and (f\"{access_type}\"=='UC_CUR_READ')):\n",
    "#catalog level\n",
    "    spark.sql(f\"grant USE CATALOG on CATALOG unitycatalog_telecom to `{aad_group_name}`\")\n",
    "#schema level\n",
    "    spark.sql(f\"grant USE SCHEMA on SCHEMA unitycatalog_telecom.{env}_curated to `{aad_group_name}`\")\n",
    "    spark.sql(f\"grant REFRESH on SCHEMA unitycatalog_telecom.{env}_curated to `{aad_group_name}`\")\n",
    "    spark.sql(f\"grant SELECT on SCHEMA unitycatalog_telecom.{env}_curated to `{aad_group_name}`\")\n",
    "    print(f\"{access_status} if block is executed [{access_type}]\")\n",
    "\n",
    "#updating in metadata schema table \n",
    "    spark.sql(f\"\"\"update hive_metastore.metadata_schema.tbl_rbac_uc_aad_groups set access_status= 'granted' where \n",
    "    aad_group_name='{aad_group_name}' and env='{env}' \"\"\")\n",
    "elif((f\"{access_status}\"=='revoke') and (f\"{access_type}\"=='UC_CUR_READ')):\n",
    "#catalog level\n",
    "    spark.sql(f\"revoke USE CATALOG on CATALOG unitycatalog_telecom from `{aad_group_name}`\")\n",
    "#schema level\n",
    "    spark.sql(f\"revoke USE SCHEMA on SCHEMA unitycatalog_telecom.{env}_curated from `{aad_group_name}`\")\n",
    "    spark.sql(f\"revoke REFRESH on SCHEMA unitycatalog_telecom.{env}_curated from `{aad_group_name}`\")\n",
    "    spark.sql(f\"revoke SELECT on SCHEMA unitycatalog_telecom.{env}_curated from `{aad_group_name}`\")\n",
    "    print(f\"{access_status} if block is executed [{access_type}]\")  \n",
    "#updating in metadata schema table \n",
    "    spark.sql(f\"\"\"update hive_metastore.metadata_schema.tbl_rbac_uc_aad_groups set access_status= 'revoked' where \n",
    "    aad_group_name='{aad_group_name}' and env='{env}' \"\"\")"
   ]
  },
  {
   "cell_type": "code",
   "execution_count": 0,
   "metadata": {
    "application/vnd.databricks.v1+cell": {
     "cellMetadata": {},
     "inputWidgets": {},
     "nuid": "55a5ee16-981f-43d3-bb9e-7a332486aa74",
     "showTitle": false,
     "title": ""
    }
   },
   "outputs": [],
   "source": [
    "#UC_CUR_READ = Read access on curated schema only\n",
    "if((f\"{access_status}\"=='grant') and (f\"{access_type}\"=='UC_ALL_PRIVILEGES')):\n",
    "#catalog level\n",
    "    spark.sql(f\"grant USE CATALOG on CATALOG unitycatalog_telecom to `{aad_group_name}`\")\n",
    "#schema level\n",
    "    spark.sql(f\"grant ALL PRIVILEGES on SCHEMA unitycatalog_telecom.{env}_curated to `{aad_group_name}`\")\n",
    "    spark.sql(f\"grant ALL PRIVILEGES on SCHEMA unitycatalog_telecom.{env}_intermediate to `{aad_group_name}`\")\n",
    "    spark.sql(f\"grant ALL PRIVILEGES on SCHEMA unitycatalog_telecom.{env}_raw to `{aad_group_name}`\")\n",
    "    print(f\"{access_status} if block is executed [{access_type}]\")\n",
    "\n",
    "#updating in metadata schema table \n",
    "    spark.sql(f\"\"\"update hive_metastore.metadata_schema.tbl_rbac_uc_aad_groups set access_status= 'granted' where \n",
    "    aad_group_name='{aad_group_name}' and env='{env}' \"\"\")\n",
    "elif((f\"{access_status}\"=='revoke') and (f\"{access_type}\"=='UC_ALL_PRIVILEGES')):\n",
    "#catalog level\n",
    "    spark.sql(f\"revoke USE CATALOG on CATALOG unitycatalog_telecom from `{aad_group_name}`\")\n",
    "#schema level\n",
    "    spark.sql(f\"revoke ALL PRIVILEGES on SCHEMA unitycatalog_telecom.{env}_curated from `{aad_group_name}`\")\n",
    "    spark.sql(f\"revoke ALL PRIVILEGES on SCHEMA unitycatalog_telecom.{env}_intermediate from `{aad_group_name}`\")\n",
    "    spark.sql(f\"revoke ALL PRIVILEGES on SCHEMA unitycatalog_telecom.{env}_raw to `{aad_group_name}`\")\n",
    "    print(f\"{access_status} if block is executed [{access_type}]\")  \n",
    "#updating in metadata schema table \n",
    "    spark.sql(f\"\"\"update hive_metastore.metadata_schema.tbl_rbac_uc_aad_groups set access_status= 'revoked' where \n",
    "    aad_group_name='{aad_group_name}' and env='{env}' \"\"\")"
   ]
  }
 ],
 "metadata": {
  "application/vnd.databricks.v1+notebook": {
   "dashboards": [],
   "environmentMetadata": {
    "base_environment": "",
    "client": "1"
   },
   "language": "python",
   "notebookMetadata": {
    "pythonIndentUnit": 4
   },
   "notebookName": "uc_access",
   "widgets": {}
  },
  "language_info": {
   "name": "python"
  }
 },
 "nbformat": 4,
 "nbformat_minor": 0
}
