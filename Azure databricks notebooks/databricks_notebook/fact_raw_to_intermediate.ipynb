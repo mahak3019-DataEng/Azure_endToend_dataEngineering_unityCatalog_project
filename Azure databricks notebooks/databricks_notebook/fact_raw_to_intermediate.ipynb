{
 "cells": [
  {
   "cell_type": "code",
   "execution_count": 0,
   "metadata": {
    "application/vnd.databricks.v1+cell": {
     "cellMetadata": {
      "byteLimit": 2048000,
      "rowLimit": 10000
     },
     "inputWidgets": {},
     "nuid": "902bef03-32da-4ca2-8d87-33b9be0b1170",
     "showTitle": false,
     "title": ""
    }
   },
   "outputs": [],
   "source": [
    "dbutils.widgets.text(\"env\",\"\")\n",
    "env = dbutils.widgets.get(\"env\")\n",
    "\n",
    "dbutils.widgets.text(\"raw_schema\",\"\")\n",
    "raw_schema = dbutils.widgets.get(\"raw_schema\")\n",
    "\n",
    "dbutils.widgets.text(\"raw_table\",\"\")\n",
    "raw_table = dbutils.widgets.get(\"raw_table\")\n",
    "\n",
    "dbutils.widgets.text(\"intermediate_schema\",\"\")\n",
    "intermediate_schema = dbutils.widgets.get(\"intermediate_schema\")\n",
    "\n",
    "dbutils.widgets.text(\"intermediate_table\",\"\")\n",
    "intermediate_table = dbutils.widgets.get(\"intermediate_table\")\n",
    "\n",
    "dbutils.widgets.text(\"intermediate_query\",\"\")\n",
    "intermediate_query = dbutils.widgets.get(\"intermediate_query\")\n",
    "\n",
    "dbutils.widgets.text(\"aws_last_modified_time\",\"\")\n",
    "aws_last_modified_time = dbutils.widgets.get(\"aws_last_modified_time\")"
   ]
  },
  {
   "cell_type": "code",
   "execution_count": 0,
   "metadata": {
    "application/vnd.databricks.v1+cell": {
     "cellMetadata": {},
     "inputWidgets": {},
     "nuid": "fe624d01-2e46-4dd5-9d8e-936b98b45744",
     "showTitle": false,
     "title": ""
    }
   },
   "outputs": [],
   "source": [
    "raw_df = spark.sql(f\"select * from {raw_schema}.{raw_table}\")\n",
    "\n",
    "raw_file_records_count = raw_df.count()\n",
    "\n",
    "#creating the temporary view\n",
    "raw_df.createOrReplaceTempView(\"temp_view\")"
   ]
  },
  {
   "cell_type": "code",
   "execution_count": 0,
   "metadata": {
    "application/vnd.databricks.v1+cell": {
     "cellMetadata": {},
     "inputWidgets": {},
     "nuid": "3d9b1e4b-a451-4519-af6a-35a3d72e412c",
     "showTitle": false,
     "title": ""
    }
   },
   "outputs": [],
   "source": [
    "# Upsert records into the intermediate fact tables\n",
    "final_query = intermediate_query.format(intermediate_schema = intermediate_schema, intermediate_table = intermediate_table)\n",
    "\n",
    "intermediate_df = spark.sql(final_query)\n",
    "# getting only the affected rows count\n",
    "intermediate_df = intermediate_df.collect()[0]\n",
    "intermediate_count = intermediate_df.num_affected_rows"
   ]
  },
  {
   "cell_type": "code",
   "execution_count": 0,
   "metadata": {
    "application/vnd.databricks.v1+cell": {
     "cellMetadata": {},
     "inputWidgets": {},
     "nuid": "b3132239-d593-439e-9d18-e5686c64bbd1",
     "showTitle": false,
     "title": ""
    }
   },
   "outputs": [],
   "source": [
    "dbutils.notebook.exit([raw_file_records_count, intermediate_count])"
   ]
  }
 ],
 "metadata": {
  "application/vnd.databricks.v1+notebook": {
   "dashboards": [],
   "environmentMetadata": {
    "base_environment": "",
    "client": "1"
   },
   "language": "python",
   "notebookMetadata": {
    "pythonIndentUnit": 4
   },
   "notebookName": "fact_raw_to_intermediate",
   "widgets": {
    "aws_last_modified_time": {
     "currentValue": "",
     "nuid": "998be5ae-a736-4908-a4a7-07aefde920c5",
     "typedWidgetInfo": {
      "autoCreated": false,
      "defaultValue": "",
      "label": null,
      "name": "aws_last_modified_time",
      "options": {
       "widgetDisplayType": "Text",
       "validationRegex": null
      },
      "parameterDataType": "String"
     },
     "widgetInfo": {
      "widgetType": "text",
      "defaultValue": "",
      "label": null,
      "name": "aws_last_modified_time",
      "options": {
       "widgetType": "text",
       "autoCreated": null,
       "validationRegex": null
      }
     }
    },
    "env": {
     "currentValue": "",
     "nuid": "c0135bdf-bba3-421f-87bc-9255b4bc4371",
     "typedWidgetInfo": {
      "autoCreated": false,
      "defaultValue": "",
      "label": null,
      "name": "env",
      "options": {
       "widgetDisplayType": "Text",
       "validationRegex": null
      },
      "parameterDataType": "String"
     },
     "widgetInfo": {
      "widgetType": "text",
      "defaultValue": "",
      "label": null,
      "name": "env",
      "options": {
       "widgetType": "text",
       "autoCreated": null,
       "validationRegex": null
      }
     }
    },
    "intermediate_query": {
     "currentValue": "",
     "nuid": "0c09caf8-0cfb-44b9-8415-09c760113f3f",
     "typedWidgetInfo": {
      "autoCreated": false,
      "defaultValue": "",
      "label": null,
      "name": "intermediate_query",
      "options": {
       "widgetDisplayType": "Text",
       "validationRegex": null
      },
      "parameterDataType": "String"
     },
     "widgetInfo": {
      "widgetType": "text",
      "defaultValue": "",
      "label": null,
      "name": "intermediate_query",
      "options": {
       "widgetType": "text",
       "autoCreated": null,
       "validationRegex": null
      }
     }
    },
    "intermediate_schema": {
     "currentValue": "",
     "nuid": "1fa1eac3-d3e9-4e32-a1d0-96549a3ab180",
     "typedWidgetInfo": {
      "autoCreated": false,
      "defaultValue": "",
      "label": null,
      "name": "intermediate_schema",
      "options": {
       "widgetDisplayType": "Text",
       "validationRegex": null
      },
      "parameterDataType": "String"
     },
     "widgetInfo": {
      "widgetType": "text",
      "defaultValue": "",
      "label": null,
      "name": "intermediate_schema",
      "options": {
       "widgetType": "text",
       "autoCreated": null,
       "validationRegex": null
      }
     }
    },
    "intermediate_table": {
     "currentValue": "",
     "nuid": "754af507-5c5d-4e51-a799-ea158aaed1ec",
     "typedWidgetInfo": {
      "autoCreated": false,
      "defaultValue": "",
      "label": null,
      "name": "intermediate_table",
      "options": {
       "widgetDisplayType": "Text",
       "validationRegex": null
      },
      "parameterDataType": "String"
     },
     "widgetInfo": {
      "widgetType": "text",
      "defaultValue": "",
      "label": null,
      "name": "intermediate_table",
      "options": {
       "widgetType": "text",
       "autoCreated": null,
       "validationRegex": null
      }
     }
    },
    "raw_schema": {
     "currentValue": "",
     "nuid": "7d823d0e-1868-4a8f-ace2-022e8906c1de",
     "typedWidgetInfo": {
      "autoCreated": false,
      "defaultValue": "",
      "label": null,
      "name": "raw_schema",
      "options": {
       "widgetDisplayType": "Text",
       "validationRegex": null
      },
      "parameterDataType": "String"
     },
     "widgetInfo": {
      "widgetType": "text",
      "defaultValue": "",
      "label": null,
      "name": "raw_schema",
      "options": {
       "widgetType": "text",
       "autoCreated": null,
       "validationRegex": null
      }
     }
    },
    "raw_table": {
     "currentValue": "",
     "nuid": "54864c85-c6ac-4ddb-af36-25efc361aef0",
     "typedWidgetInfo": {
      "autoCreated": false,
      "defaultValue": "",
      "label": null,
      "name": "raw_table",
      "options": {
       "widgetDisplayType": "Text",
       "validationRegex": null
      },
      "parameterDataType": "String"
     },
     "widgetInfo": {
      "widgetType": "text",
      "defaultValue": "",
      "label": null,
      "name": "raw_table",
      "options": {
       "widgetType": "text",
       "autoCreated": null,
       "validationRegex": null
      }
     }
    }
   }
  },
  "language_info": {
   "name": "python"
  }
 },
 "nbformat": 4,
 "nbformat_minor": 0
}
