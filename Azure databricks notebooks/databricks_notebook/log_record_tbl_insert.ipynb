{
 "cells": [
  {
   "cell_type": "code",
   "execution_count": 0,
   "metadata": {
    "application/vnd.databricks.v1+cell": {
     "cellMetadata": {
      "byteLimit": 2048000,
      "rowLimit": 10000
     },
     "inputWidgets": {},
     "nuid": "d8bbb792-6319-4f7b-98c2-f9485401da40",
     "showTitle": false,
     "title": ""
    }
   },
   "outputs": [],
   "source": [
    "dbutils.widgets.text(\"env\",\"\")\n",
    "env = dbutils.widgets.get(\"env\")\n",
    "\n",
    "dbutils.widgets.text(\"storage_account_name\",\"\")\n",
    "storage_account_name = dbutils.widgets.get(\"storage_account_name\")\n",
    "\n",
    "dbutils.widgets.text(\"pipelineName\",\"\")\n",
    "pipelineName = dbutils.widgets.get(\"pipelineName\")\n",
    "\n",
    "dbutils.widgets.text(\"logMessage\",\"\")\n",
    "logMessage = dbutils.widgets.get(\"logMessage\")\n",
    "\n",
    "dbutils.widgets.text(\"status\",\"\")\n",
    "status = dbutils.widgets.get(\"status\")\n",
    "\n",
    "dbutils.widgets.text(\"triggerType\",\"\")\n",
    "triggerType = dbutils.widgets.get(\"triggerType\")\n",
    "\n",
    "dbutils.widgets.text(\"loadId\",\"\")\n",
    "loadId = dbutils.widgets.get(\"loadId\")\n",
    "\n",
    "dbutils.widgets.text(\"logTimestamp\",\"\")\n",
    "logTimestamp = dbutils.widgets.get(\"logTimestamp\")"
   ]
  },
  {
   "cell_type": "code",
   "execution_count": 0,
   "metadata": {
    "application/vnd.databricks.v1+cell": {
     "cellMetadata": {},
     "inputWidgets": {},
     "nuid": "89cfec81-09c9-4448-9491-4bd9fd339ab1",
     "showTitle": false,
     "title": ""
    }
   },
   "outputs": [],
   "source": [
    "status  = status.replace('\\'','\"')\n",
    "logMessage = logMessage.replace('\\'','\"')"
   ]
  },
  {
   "cell_type": "code",
   "execution_count": 0,
   "metadata": {
    "application/vnd.databricks.v1+cell": {
     "cellMetadata": {},
     "inputWidgets": {},
     "nuid": "de9d93af-b350-4682-abea-f4a603194873",
     "showTitle": false,
     "title": ""
    }
   },
   "outputs": [],
   "source": [
    "spark.sql(f\"\"\"\n",
    "    insert into {env}_log.log_record_tbl values ('{env}','{pipelineName}', '{logMessage}', '{status}', '{triggerType}', '{loadId}', '{logTimestamp}')\n",
    "          \"\"\")"
   ]
  }
 ],
 "metadata": {
  "application/vnd.databricks.v1+notebook": {
   "dashboards": [],
   "environmentMetadata": {
    "base_environment": "",
    "client": "1"
   },
   "language": "python",
   "notebookMetadata": {
    "pythonIndentUnit": 4
   },
   "notebookName": "log_record_tbl_insert",
   "widgets": {
    "env": {
     "currentValue": "",
     "nuid": "6759c50a-cd57-45ad-b948-5282fc2ec9d1",
     "typedWidgetInfo": {
      "autoCreated": false,
      "defaultValue": "",
      "label": null,
      "name": "env",
      "options": {
       "widgetDisplayType": "Text",
       "validationRegex": null
      },
      "parameterDataType": "String"
     },
     "widgetInfo": {
      "widgetType": "text",
      "defaultValue": "",
      "label": null,
      "name": "env",
      "options": {
       "widgetType": "text",
       "autoCreated": null,
       "validationRegex": null
      }
     }
    },
    "loadId": {
     "currentValue": "",
     "nuid": "f6171eb6-5a4b-4404-bbac-7e9e26398b19",
     "typedWidgetInfo": {
      "autoCreated": false,
      "defaultValue": "",
      "label": null,
      "name": "loadId",
      "options": {
       "widgetDisplayType": "Text",
       "validationRegex": null
      },
      "parameterDataType": "String"
     },
     "widgetInfo": {
      "widgetType": "text",
      "defaultValue": "",
      "label": null,
      "name": "loadId",
      "options": {
       "widgetType": "text",
       "autoCreated": null,
       "validationRegex": null
      }
     }
    },
    "logMessage": {
     "currentValue": "",
     "nuid": "a3d06e7a-bd02-4d33-a5f8-4d3fe3ad7da6",
     "typedWidgetInfo": {
      "autoCreated": false,
      "defaultValue": "",
      "label": null,
      "name": "logMessage",
      "options": {
       "widgetDisplayType": "Text",
       "validationRegex": null
      },
      "parameterDataType": "String"
     },
     "widgetInfo": {
      "widgetType": "text",
      "defaultValue": "",
      "label": null,
      "name": "logMessage",
      "options": {
       "widgetType": "text",
       "autoCreated": null,
       "validationRegex": null
      }
     }
    },
    "logTimestamp": {
     "currentValue": "",
     "nuid": "fde228e3-9f4a-46e8-95f9-4b76e1310948",
     "typedWidgetInfo": {
      "autoCreated": false,
      "defaultValue": "",
      "label": null,
      "name": "logTimestamp",
      "options": {
       "widgetDisplayType": "Text",
       "validationRegex": null
      },
      "parameterDataType": "String"
     },
     "widgetInfo": {
      "widgetType": "text",
      "defaultValue": "",
      "label": null,
      "name": "logTimestamp",
      "options": {
       "widgetType": "text",
       "autoCreated": null,
       "validationRegex": null
      }
     }
    },
    "pipelineName": {
     "currentValue": "",
     "nuid": "90f5fa4c-acd9-4650-8912-7114e4ce763f",
     "typedWidgetInfo": {
      "autoCreated": false,
      "defaultValue": "",
      "label": null,
      "name": "pipelineName",
      "options": {
       "widgetDisplayType": "Text",
       "validationRegex": null
      },
      "parameterDataType": "String"
     },
     "widgetInfo": {
      "widgetType": "text",
      "defaultValue": "",
      "label": null,
      "name": "pipelineName",
      "options": {
       "widgetType": "text",
       "autoCreated": null,
       "validationRegex": null
      }
     }
    },
    "status": {
     "currentValue": "",
     "nuid": "80dcc64b-cbe1-41b3-82b7-89c0dc7bc3c8",
     "typedWidgetInfo": {
      "autoCreated": false,
      "defaultValue": "",
      "label": null,
      "name": "status",
      "options": {
       "widgetDisplayType": "Text",
       "validationRegex": null
      },
      "parameterDataType": "String"
     },
     "widgetInfo": {
      "widgetType": "text",
      "defaultValue": "",
      "label": null,
      "name": "status",
      "options": {
       "widgetType": "text",
       "autoCreated": null,
       "validationRegex": null
      }
     }
    },
    "storage_account_name": {
     "currentValue": "",
     "nuid": "577f1a32-2cf9-4407-8b98-a4c9ffbc45b9",
     "typedWidgetInfo": {
      "autoCreated": false,
      "defaultValue": "",
      "label": null,
      "name": "storage_account_name",
      "options": {
       "widgetDisplayType": "Text",
       "validationRegex": null
      },
      "parameterDataType": "String"
     },
     "widgetInfo": {
      "widgetType": "text",
      "defaultValue": "",
      "label": null,
      "name": "storage_account_name",
      "options": {
       "widgetType": "text",
       "autoCreated": null,
       "validationRegex": null
      }
     }
    },
    "triggerType": {
     "currentValue": "",
     "nuid": "b6241ed2-28fb-4ace-9018-9dd7cbe77440",
     "typedWidgetInfo": {
      "autoCreated": false,
      "defaultValue": "",
      "label": null,
      "name": "triggerType",
      "options": {
       "widgetDisplayType": "Text",
       "validationRegex": null
      },
      "parameterDataType": "String"
     },
     "widgetInfo": {
      "widgetType": "text",
      "defaultValue": "",
      "label": null,
      "name": "triggerType",
      "options": {
       "widgetType": "text",
       "autoCreated": null,
       "validationRegex": null
      }
     }
    }
   }
  },
  "language_info": {
   "name": "python"
  }
 },
 "nbformat": 4,
 "nbformat_minor": 0
}
