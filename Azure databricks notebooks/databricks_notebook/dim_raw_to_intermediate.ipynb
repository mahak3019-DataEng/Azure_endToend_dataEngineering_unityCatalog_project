{
 "cells": [
  {
   "cell_type": "code",
   "execution_count": 0,
   "metadata": {
    "application/vnd.databricks.v1+cell": {
     "cellMetadata": {
      "byteLimit": 2048000,
      "rowLimit": 10000
     },
     "inputWidgets": {},
     "nuid": "1be86949-979a-4c93-a846-a39403acb34f",
     "showTitle": false,
     "title": ""
    }
   },
   "outputs": [],
   "source": [
    "dbutils.widgets.text(\"env\",\"\")\n",
    "env = dbutils.widgets.get(\"env\")\n",
    "\n",
    "dbutils.widgets.text(\"raw_schema\",\"\")\n",
    "raw_schema = dbutils.widgets.get(\"raw_schema\")\n",
    "\n",
    "dbutils.widgets.text(\"raw_table\",\"\")\n",
    "raw_table = dbutils.widgets.get(\"raw_table\")\n",
    "\n",
    "dbutils.widgets.text(\"intermediate_schema\",\"\")\n",
    "intermediate_schema = dbutils.widgets.get(\"intermediate_schema\")\n",
    "\n",
    "dbutils.widgets.text(\"intermediate_table\",\"\")\n",
    "intermediate_table = dbutils.widgets.get(\"intermediate_table\")\n",
    "\n",
    "dbutils.widgets.text(\"aws_last_modified_time\",\"\")\n",
    "aws_last_modified_time = dbutils.widgets.get(\"aws_last_modified_time\")"
   ]
  },
  {
   "cell_type": "code",
   "execution_count": 0,
   "metadata": {
    "application/vnd.databricks.v1+cell": {
     "cellMetadata": {},
     "inputWidgets": {},
     "nuid": "e16bfa23-106b-4cb7-8c46-ccc12ee87757",
     "showTitle": false,
     "title": ""
    }
   },
   "outputs": [],
   "source": [
    "raw_df = spark.sql(f\"select * from {raw_schema}.{raw_table}\")\n",
    "raw_table_records_count = raw_df.count()\n",
    "\n",
    "#creating temporary view from the raw_df dataframe\n",
    "raw_df.createOrReplaceTempView('temp_view')"
   ]
  },
  {
   "cell_type": "code",
   "execution_count": 0,
   "metadata": {
    "application/vnd.databricks.v1+cell": {
     "cellMetadata": {},
     "inputWidgets": {},
     "nuid": "aca5c16c-1dcc-45e3-a227-3e3365dac865",
     "showTitle": false,
     "title": ""
    }
   },
   "outputs": [],
   "source": [
    "intermediate_df = spark.sql(f\"\"\"\n",
    "          \n",
    "    insert overwrite {intermediate_schema}.{intermediate_table} select * from temp_view;\n",
    "\"\"\")"
   ]
  },
  {
   "cell_type": "code",
   "execution_count": 0,
   "metadata": {
    "application/vnd.databricks.v1+cell": {
     "cellMetadata": {},
     "inputWidgets": {},
     "nuid": "0ce45fa8-fa77-4a99-b899-b87f29503dd4",
     "showTitle": false,
     "title": ""
    }
   },
   "outputs": [],
   "source": [
    "intermediate_table_records_count = intermediate_df.count()"
   ]
  },
  {
   "cell_type": "code",
   "execution_count": 0,
   "metadata": {
    "application/vnd.databricks.v1+cell": {
     "cellMetadata": {},
     "inputWidgets": {},
     "nuid": "bea59c0c-b70e-4fdf-b4bb-9e9944891852",
     "showTitle": false,
     "title": ""
    }
   },
   "outputs": [],
   "source": [
    "dbutils.notebook.exit([raw_table_records_count, intermediate_table_records_count])"
   ]
  }
 ],
 "metadata": {
  "application/vnd.databricks.v1+notebook": {
   "dashboards": [],
   "environmentMetadata": {
    "base_environment": "",
    "client": "1"
   },
   "language": "python",
   "notebookMetadata": {
    "pythonIndentUnit": 4
   },
   "notebookName": "dim_raw_to_intermediate",
   "widgets": {
    "aws_last_modified_time": {
     "currentValue": "",
     "nuid": "ffa01a45-c0bb-4301-b655-fbdaeff7d7be",
     "typedWidgetInfo": {
      "autoCreated": false,
      "defaultValue": "",
      "label": null,
      "name": "aws_last_modified_time",
      "options": {
       "widgetDisplayType": "Text",
       "validationRegex": null
      },
      "parameterDataType": "String"
     },
     "widgetInfo": {
      "widgetType": "text",
      "defaultValue": "",
      "label": null,
      "name": "aws_last_modified_time",
      "options": {
       "widgetType": "text",
       "autoCreated": null,
       "validationRegex": null
      }
     }
    },
    "env": {
     "currentValue": "",
     "nuid": "d614ff57-583f-45ff-804b-4eab6838a306",
     "typedWidgetInfo": {
      "autoCreated": false,
      "defaultValue": "",
      "label": null,
      "name": "env",
      "options": {
       "widgetDisplayType": "Text",
       "validationRegex": null
      },
      "parameterDataType": "String"
     },
     "widgetInfo": {
      "widgetType": "text",
      "defaultValue": "",
      "label": null,
      "name": "env",
      "options": {
       "widgetType": "text",
       "autoCreated": null,
       "validationRegex": null
      }
     }
    },
    "intermediate_schema": {
     "currentValue": "",
     "nuid": "e9608bec-b09e-463f-851f-fe321a68cf15",
     "typedWidgetInfo": {
      "autoCreated": false,
      "defaultValue": "",
      "label": null,
      "name": "intermediate_schema",
      "options": {
       "widgetDisplayType": "Text",
       "validationRegex": null
      },
      "parameterDataType": "String"
     },
     "widgetInfo": {
      "widgetType": "text",
      "defaultValue": "",
      "label": null,
      "name": "intermediate_schema",
      "options": {
       "widgetType": "text",
       "autoCreated": null,
       "validationRegex": null
      }
     }
    },
    "intermediate_table": {
     "currentValue": "",
     "nuid": "71f2cefb-89c3-470f-b881-bebb3b694f64",
     "typedWidgetInfo": {
      "autoCreated": false,
      "defaultValue": "",
      "label": null,
      "name": "intermediate_table",
      "options": {
       "widgetDisplayType": "Text",
       "validationRegex": null
      },
      "parameterDataType": "String"
     },
     "widgetInfo": {
      "widgetType": "text",
      "defaultValue": "",
      "label": null,
      "name": "intermediate_table",
      "options": {
       "widgetType": "text",
       "autoCreated": null,
       "validationRegex": null
      }
     }
    },
    "raw_schema": {
     "currentValue": "",
     "nuid": "92377f22-67cc-4dc1-930f-e9f5163cb96b",
     "typedWidgetInfo": {
      "autoCreated": false,
      "defaultValue": "",
      "label": null,
      "name": "raw_schema",
      "options": {
       "widgetDisplayType": "Text",
       "validationRegex": null
      },
      "parameterDataType": "String"
     },
     "widgetInfo": {
      "widgetType": "text",
      "defaultValue": "",
      "label": null,
      "name": "raw_schema",
      "options": {
       "widgetType": "text",
       "autoCreated": null,
       "validationRegex": null
      }
     }
    },
    "raw_table": {
     "currentValue": "",
     "nuid": "2f598d3c-9453-4c8c-aab3-fff465e006c0",
     "typedWidgetInfo": {
      "autoCreated": false,
      "defaultValue": "",
      "label": null,
      "name": "raw_table",
      "options": {
       "widgetDisplayType": "Text",
       "validationRegex": null
      },
      "parameterDataType": "String"
     },
     "widgetInfo": {
      "widgetType": "text",
      "defaultValue": "",
      "label": null,
      "name": "raw_table",
      "options": {
       "widgetType": "text",
       "autoCreated": null,
       "validationRegex": null
      }
     }
    }
   }
  },
  "language_info": {
   "name": "python"
  }
 },
 "nbformat": 4,
 "nbformat_minor": 0
}
