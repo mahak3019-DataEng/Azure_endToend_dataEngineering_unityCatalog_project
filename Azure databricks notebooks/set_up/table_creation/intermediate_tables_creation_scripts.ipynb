{
 "cells": [
  {
   "cell_type": "code",
   "execution_count": 0,
   "metadata": {
    "application/vnd.databricks.v1+cell": {
     "cellMetadata": {
      "byteLimit": 2048000,
      "rowLimit": 10000
     },
     "inputWidgets": {},
     "nuid": "ada2a684-f7ef-48ed-955c-03f0b3e241c3",
     "showTitle": false,
     "title": ""
    }
   },
   "outputs": [],
   "source": [
    "dbutils.widgets.text(\"env\",\"\")\n",
    "env = dbutils.widgets.get(\"env\")\n",
    "\n",
    "dbutils.widgets.text(\"storage_account_name\",\"\")\n",
    "storage_account_name = dbutils.widgets.get(\"storage_account_name\")"
   ]
  },
  {
   "cell_type": "code",
   "execution_count": 0,
   "metadata": {
    "application/vnd.databricks.v1+cell": {
     "cellMetadata": {
      "byteLimit": 2048000,
      "rowLimit": 10000
     },
     "inputWidgets": {},
     "nuid": "e75e8c42-96f7-46bb-916a-ddb38cf6451d",
     "showTitle": false,
     "title": ""
    }
   },
   "outputs": [
    {
     "output_type": "execute_result",
     "data": {
      "text/plain": [
       "DataFrame[]"
      ]
     },
     "execution_count": 2,
     "metadata": {},
     "output_type": "execute_result"
    }
   ],
   "source": [
    "spark.sql(f\"\"\"\n",
    "    create database if not exists hive_metastore.{env}_intermediate\n",
    "          \"\"\")"
   ]
  },
  {
   "cell_type": "code",
   "execution_count": 0,
   "metadata": {
    "application/vnd.databricks.v1+cell": {
     "cellMetadata": {
      "byteLimit": 2048000,
      "rowLimit": 10000
     },
     "inputWidgets": {},
     "nuid": "464d7d22-c7a1-444e-a8f6-43ddddfc28ea",
     "showTitle": false,
     "title": ""
    }
   },
   "outputs": [
    {
     "output_type": "execute_result",
     "data": {
      "text/plain": [
       "DataFrame[]"
      ]
     },
     "execution_count": 4,
     "metadata": {},
     "output_type": "execute_result"
    }
   ],
   "source": [
    "spark.sql(f\"\"\"\n",
    "create or replace table {env}_intermediate.dim_cities (\n",
    "\n",
    "    city_code int,\n",
    "    city_name string,\n",
    "    last_inserted_dttm_azure timestamp,\n",
    "    last_updated_dttm_aws string,\n",
    "    loadId string\n",
    ")\n",
    "partitioned by (city_code)\n",
    "location 'abfss://intermediate@{storage_account_name}.dfs.core.windows.net/dim_cities'\n",
    "\"\"\")"
   ]
  },
  {
   "cell_type": "code",
   "execution_count": 0,
   "metadata": {
    "application/vnd.databricks.v1+cell": {
     "cellMetadata": {
      "byteLimit": 2048000,
      "rowLimit": 10000
     },
     "inputWidgets": {},
     "nuid": "15d707dd-764d-4962-bc4f-516ddedade6b",
     "showTitle": false,
     "title": ""
    }
   },
   "outputs": [
    {
     "output_type": "execute_result",
     "data": {
      "text/plain": [
       "DataFrame[]"
      ]
     },
     "execution_count": 5,
     "metadata": {},
     "output_type": "execute_result"
    }
   ],
   "source": [
    "spark.sql(f\"\"\"\n",
    "create or replace table {env}_intermediate.dim_date (\n",
    "\n",
    "    dated string,\n",
    "    month_name string,\n",
    "    before_or_after_5g string,\n",
    "    time_period int,\n",
    "    last_inserted_dttm_azure timestamp,\n",
    "    last_updated_dttm_aws string,\n",
    "    loadId string\n",
    ")\n",
    "location 'abfss://intermediate@{storage_account_name}.dfs.core.windows.net/dim_date'\n",
    "\"\"\")"
   ]
  },
  {
   "cell_type": "code",
   "execution_count": 0,
   "metadata": {
    "application/vnd.databricks.v1+cell": {
     "cellMetadata": {
      "byteLimit": 2048000,
      "rowLimit": 10000
     },
     "inputWidgets": {},
     "nuid": "96ef85fe-5537-4d33-b1f3-ad9f81f4b9b7",
     "showTitle": false,
     "title": ""
    }
   },
   "outputs": [
    {
     "output_type": "execute_result",
     "data": {
      "text/plain": [
       "DataFrame[]"
      ]
     },
     "execution_count": 6,
     "metadata": {},
     "output_type": "execute_result"
    }
   ],
   "source": [
    "spark.sql(f\"\"\"\n",
    "create or replace table {env}_intermediate.dim_plan (\n",
    "    \n",
    "    plan string,\n",
    "    plan_description string,\n",
    "    last_inserted_dttm_azure timestamp,\n",
    "    last_updated_dttm_aws string,\n",
    "    loadId string\n",
    ")\n",
    "location 'abfss://intermediate@{storage_account_name}.dfs.core.windows.net/dim_plan'\n",
    "\"\"\")"
   ]
  },
  {
   "cell_type": "code",
   "execution_count": 0,
   "metadata": {
    "application/vnd.databricks.v1+cell": {
     "cellMetadata": {
      "byteLimit": 2048000,
      "rowLimit": 10000
     },
     "inputWidgets": {},
     "nuid": "291c343e-3293-4046-a4fa-33ce701bc1bd",
     "showTitle": false,
     "title": ""
    }
   },
   "outputs": [
    {
     "output_type": "execute_result",
     "data": {
      "text/plain": [
       "DataFrame[]"
      ]
     },
     "execution_count": 7,
     "metadata": {},
     "output_type": "execute_result"
    }
   ],
   "source": [
    "spark.sql(f\"\"\"\n",
    "create or replace table {env}_intermediate.fact_market_share (\n",
    "\n",
    "    dated string,\n",
    "    city_code int,\n",
    "    tmv_city_crores double,\n",
    "    company string,\n",
    "    ms_pct double,\n",
    "    seq_no int,\n",
    "    last_inserted_dttm_azure timestamp,\n",
    "    last_updated_dttm_aws string,\n",
    "    loadId string \n",
    ")\n",
    "partitioned by (city_code)\n",
    "location 'abfss://intermediate@{storage_account_name}.dfs.core.windows.net/fact_market_share'\n",
    "\"\"\")"
   ]
  },
  {
   "cell_type": "code",
   "execution_count": 0,
   "metadata": {
    "application/vnd.databricks.v1+cell": {
     "cellMetadata": {
      "byteLimit": 2048000,
      "rowLimit": 10000
     },
     "inputWidgets": {},
     "nuid": "0130560c-8d20-4049-99f0-1156e741d270",
     "showTitle": false,
     "title": ""
    }
   },
   "outputs": [
    {
     "output_type": "execute_result",
     "data": {
      "text/plain": [
       "DataFrame[]"
      ]
     },
     "execution_count": 8,
     "metadata": {},
     "output_type": "execute_result"
    }
   ],
   "source": [
    "spark.sql(f\"\"\"\n",
    "create or replace table {env}_intermediate.fact_metrices_share (  \n",
    "\n",
    "    dated string,\n",
    "    city_code int,\n",
    "    company string,\n",
    "    company_revenue_crores double,\n",
    "    arpu int,\n",
    "    active_users_lakhs double,\n",
    "    unsubscribed_users_lakhs double,\n",
    "    seq_no int,\n",
    "    last_inserted_dttm_azure timestamp,\n",
    "    last_updated_dttm_aws string,\n",
    "    loadId string\n",
    ")\n",
    "partitioned by (city_code)\n",
    "location 'abfss://intermediate@{storage_account_name}.dfs.core.windows.net/fact_metrics_share'\n",
    "\"\"\")"
   ]
  },
  {
   "cell_type": "code",
   "execution_count": 0,
   "metadata": {
    "application/vnd.databricks.v1+cell": {
     "cellMetadata": {
      "byteLimit": 2048000,
      "rowLimit": 10000
     },
     "inputWidgets": {},
     "nuid": "83bf6f44-6de0-4612-b3db-8f87bd1e2aa7",
     "showTitle": false,
     "title": ""
    }
   },
   "outputs": [
    {
     "output_type": "execute_result",
     "data": {
      "text/plain": [
       "DataFrame[]"
      ]
     },
     "execution_count": 9,
     "metadata": {},
     "output_type": "execute_result"
    }
   ],
   "source": [
    "spark.sql(f\"\"\"\n",
    "create or replace table {env}_intermediate.fact_plan_revenue (\n",
    "\n",
    "    dated string,\n",
    "    city_code int,\n",
    "    plans string,\n",
    "    plan_revenue_crores double,\n",
    "    seq_no int,\n",
    "    last_inserted_dttm_azure timestamp,\n",
    "    last_updated_dttm_aws string,\n",
    "    loadId string  \n",
    ")\n",
    "partitioned by (city_code)\n",
    "location 'abfss://intermediate@{storage_account_name}.dfs.core.windows.net/fact_plan_revenue'\n",
    "\"\"\")"
   ]
  }
 ],
 "metadata": {
  "application/vnd.databricks.v1+notebook": {
   "dashboards": [],
   "environmentMetadata": {
    "base_environment": "",
    "client": "1"
   },
   "language": "python",
   "notebookMetadata": {
    "pythonIndentUnit": 4
   },
   "notebookName": "intermediate_tables_creation_scripts",
   "widgets": {
    "env": {
     "currentValue": "dev",
     "nuid": "949898cc-56c9-4bb9-8d2c-dacf99a4d2f3",
     "typedWidgetInfo": {
      "autoCreated": false,
      "defaultValue": "",
      "label": null,
      "name": "env",
      "options": {
       "widgetDisplayType": "Text",
       "validationRegex": null
      },
      "parameterDataType": "String"
     },
     "widgetInfo": {
      "widgetType": "text",
      "defaultValue": "",
      "label": null,
      "name": "env",
      "options": {
       "widgetType": "text",
       "autoCreated": null,
       "validationRegex": null
      }
     }
    },
    "storage_account_name": {
     "currentValue": "csadlsgen2project2",
     "nuid": "cb323315-5c16-4ae2-bbc4-59a95129d7b1",
     "typedWidgetInfo": {
      "autoCreated": false,
      "defaultValue": "",
      "label": null,
      "name": "storage_account_name",
      "options": {
       "widgetDisplayType": "Text",
       "validationRegex": null
      },
      "parameterDataType": "String"
     },
     "widgetInfo": {
      "widgetType": "text",
      "defaultValue": "",
      "label": null,
      "name": "storage_account_name",
      "options": {
       "widgetType": "text",
       "autoCreated": null,
       "validationRegex": null
      }
     }
    }
   }
  },
  "language_info": {
   "name": "python"
  }
 },
 "nbformat": 4,
 "nbformat_minor": 0
}
