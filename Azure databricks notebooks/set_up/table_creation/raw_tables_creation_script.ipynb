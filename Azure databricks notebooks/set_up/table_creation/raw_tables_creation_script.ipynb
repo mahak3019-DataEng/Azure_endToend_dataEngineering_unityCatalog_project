{
 "cells": [
  {
   "cell_type": "code",
   "execution_count": 0,
   "metadata": {
    "application/vnd.databricks.v1+cell": {
     "cellMetadata": {
      "byteLimit": 2048000,
      "rowLimit": 10000
     },
     "inputWidgets": {},
     "nuid": "92058cab-5da8-48d3-bea3-4ded5893ebbb",
     "showTitle": false,
     "title": ""
    }
   },
   "outputs": [],
   "source": [
    "dbutils.widgets.text(\"env\",\"\")\n",
    "env = dbutils.widgets.get(\"env\")\n",
    "\n",
    "dbutils.widgets.text(\"storage_account_name\",\"\")\n",
    "storage_account_name = dbutils.widgets.get(\"storage_account_name\")"
   ]
  },
  {
   "cell_type": "code",
   "execution_count": 0,
   "metadata": {
    "application/vnd.databricks.v1+cell": {
     "cellMetadata": {
      "byteLimit": 2048000,
      "rowLimit": 10000
     },
     "inputWidgets": {},
     "nuid": "a66e4a5b-5d36-4881-ab65-d79e9a8574a0",
     "showTitle": false,
     "title": ""
    }
   },
   "outputs": [
    {
     "output_type": "execute_result",
     "data": {
      "text/plain": [
       "DataFrame[]"
      ]
     },
     "execution_count": 5,
     "metadata": {},
     "output_type": "execute_result"
    }
   ],
   "source": [
    "spark.sql(f\"\"\"\n",
    "    create database if not exists hive_metastore.{env}_raw\n",
    "\"\"\")"
   ]
  },
  {
   "cell_type": "code",
   "execution_count": 0,
   "metadata": {
    "application/vnd.databricks.v1+cell": {
     "cellMetadata": {
      "byteLimit": 2048000,
      "rowLimit": 10000
     },
     "inputWidgets": {},
     "nuid": "d437774c-58f1-454c-9397-276ba37a993a",
     "showTitle": false,
     "title": ""
    }
   },
   "outputs": [
    {
     "output_type": "execute_result",
     "data": {
      "text/plain": [
       "DataFrame[]"
      ]
     },
     "execution_count": 7,
     "metadata": {},
     "output_type": "execute_result"
    }
   ],
   "source": [
    "spark.sql(f\"\"\"\n",
    "    create or replace table {env}_raw.dim_cities (\n",
    "        city_code int,\n",
    "        city_name string,\n",
    "        last_inserted_dttm_azure timestamp,\n",
    "        last_updated_dttm_aws string,\n",
    "        loadId string\n",
    "    )\n",
    "    partitioned by (city_code)   \n",
    "    LOCATION 'abfss://raw@{storage_account_name}.dfs.core.windows.net/dim_cities'  \n",
    "          \"\"\")"
   ]
  },
  {
   "cell_type": "code",
   "execution_count": 0,
   "metadata": {
    "application/vnd.databricks.v1+cell": {
     "cellMetadata": {
      "byteLimit": 2048000,
      "rowLimit": 10000
     },
     "inputWidgets": {},
     "nuid": "c49eb526-8f31-4a6d-a0c0-d68711909fda",
     "showTitle": false,
     "title": ""
    }
   },
   "outputs": [
    {
     "output_type": "execute_result",
     "data": {
      "text/plain": [
       "DataFrame[]"
      ]
     },
     "execution_count": 9,
     "metadata": {},
     "output_type": "execute_result"
    }
   ],
   "source": [
    "spark.sql(f\"\"\"\n",
    "    create or replace table {env}_raw.dim_date (\n",
    "        dated string,\n",
    "        month_name string,\n",
    "        before_or_after_5g string,\n",
    "        time_period int,\n",
    "        last_inserted_dttm_azure timestamp,\n",
    "        last_updated_dttm_aws string,\n",
    "        loadId string\n",
    "    )\n",
    "    LOCATION 'abfss://raw@{storage_account_name}.dfs.core.windows.net/dim_date'  \n",
    "          \"\"\")"
   ]
  },
  {
   "cell_type": "code",
   "execution_count": 0,
   "metadata": {
    "application/vnd.databricks.v1+cell": {
     "cellMetadata": {
      "byteLimit": 2048000,
      "rowLimit": 10000
     },
     "inputWidgets": {},
     "nuid": "fcbd4864-9e4f-4fd9-83f0-c27baef118f1",
     "showTitle": false,
     "title": ""
    }
   },
   "outputs": [
    {
     "output_type": "execute_result",
     "data": {
      "text/plain": [
       "DataFrame[]"
      ]
     },
     "execution_count": 10,
     "metadata": {},
     "output_type": "execute_result"
    }
   ],
   "source": [
    "spark.sql(f\"\"\"\n",
    "    create or replace table {env}_raw.dim_plan (\n",
    "        plan string,\n",
    "        plan_description string,\n",
    "        last_inserted_dttm_azure timestamp,\n",
    "        last_updated_dttm_aws string,\n",
    "        loadId string\n",
    "    )\n",
    "    LOCATION 'abfss://raw@{storage_account_name}.dfs.core.windows.net/dim_plan'  \n",
    "          \"\"\")"
   ]
  },
  {
   "cell_type": "code",
   "execution_count": 0,
   "metadata": {
    "application/vnd.databricks.v1+cell": {
     "cellMetadata": {
      "byteLimit": 2048000,
      "rowLimit": 10000
     },
     "inputWidgets": {},
     "nuid": "83d5d500-9420-4420-9659-b774faa3bab9",
     "showTitle": false,
     "title": ""
    }
   },
   "outputs": [
    {
     "output_type": "execute_result",
     "data": {
      "text/plain": [
       "DataFrame[]"
      ]
     },
     "execution_count": 5,
     "metadata": {},
     "output_type": "execute_result"
    }
   ],
   "source": [
    "spark.sql(f\"\"\"\n",
    "    create or replace table {env}_raw.fact_market_share (\n",
    "        dated string,\n",
    "        city_code int,\n",
    "        tmv_city_crores double,\n",
    "        company string,\n",
    "        ms_pct double,\n",
    "        seq_no int,\n",
    "        last_inserted_dttm_azure timestamp,\n",
    "        last_updated_dttm_aws string,\n",
    "        loadId string\n",
    "    )\n",
    "    partitioned by (city_code)\n",
    "    LOCATION 'abfss://raw@{storage_account_name}.dfs.core.windows.net/fact_market_share'  \n",
    "    \"\"\")"
   ]
  },
  {
   "cell_type": "code",
   "execution_count": 0,
   "metadata": {
    "application/vnd.databricks.v1+cell": {
     "cellMetadata": {
      "byteLimit": 2048000,
      "rowLimit": 10000
     },
     "inputWidgets": {},
     "nuid": "50b43954-050c-447e-b314-b8edac7c7129",
     "showTitle": false,
     "title": ""
    }
   },
   "outputs": [
    {
     "output_type": "execute_result",
     "data": {
      "text/plain": [
       "DataFrame[]"
      ]
     },
     "execution_count": 6,
     "metadata": {},
     "output_type": "execute_result"
    }
   ],
   "source": [
    "spark.sql(f\"\"\"\n",
    "    create or replace table {env}_raw.fact_metrices_share (\n",
    "        dated string,\n",
    "        city_code int,\n",
    "        company string,\n",
    "        company_revenue_crores double,\n",
    "        arpu int,\n",
    "        active_users_lakhs double,\n",
    "        unsubscribed_users_lakhs double,\n",
    "        seq_no int,\n",
    "        last_inserted_dttm_azure timestamp,\n",
    "        last_updated_dttm_aws string,\n",
    "        loadId string\n",
    "    )\n",
    "    partitioned by (city_code)\n",
    "    LOCATION 'abfss://raw@{storage_account_name}.dfs.core.windows.net/fact_metrices_share'  \n",
    "    \"\"\")"
   ]
  },
  {
   "cell_type": "code",
   "execution_count": 0,
   "metadata": {
    "application/vnd.databricks.v1+cell": {
     "cellMetadata": {
      "byteLimit": 2048000,
      "rowLimit": 10000
     },
     "inputWidgets": {},
     "nuid": "ba1c9067-7c68-4886-9a3d-fb41eb2f06b7",
     "showTitle": false,
     "title": ""
    }
   },
   "outputs": [
    {
     "output_type": "execute_result",
     "data": {
      "text/plain": [
       "DataFrame[]"
      ]
     },
     "execution_count": 7,
     "metadata": {},
     "output_type": "execute_result"
    }
   ],
   "source": [
    "spark.sql(f\"\"\"\n",
    "    create or replace table {env}_raw.fact_plan_revenue (\n",
    "        \n",
    "        dated string,\n",
    "        city_code int,\n",
    "        plans string,\n",
    "        plan_revenue_crores double,\n",
    "        seq_no int,\n",
    "        last_inserted_dttm_azure timestamp,\n",
    "        last_updated_dttm_aws string,\n",
    "        loadId string\n",
    "    )\n",
    "    partitioned by (city_code)\n",
    "    LOCATION 'abfss://raw@{storage_account_name}.dfs.core.windows.net/fact_plan_revenue'  \n",
    "    \"\"\")"
   ]
  }
 ],
 "metadata": {
  "application/vnd.databricks.v1+notebook": {
   "dashboards": [],
   "environmentMetadata": {
    "base_environment": "",
    "client": "1"
   },
   "language": "python",
   "notebookMetadata": {
    "pythonIndentUnit": 4
   },
   "notebookName": "raw_tables_creation_script",
   "widgets": {
    "env": {
     "currentValue": "dev",
     "nuid": "4ed78a1a-98c2-4d79-b727-0e8c5860343b",
     "typedWidgetInfo": {
      "autoCreated": false,
      "defaultValue": "",
      "label": null,
      "name": "env",
      "options": {
       "widgetDisplayType": "Text",
       "validationRegex": null
      },
      "parameterDataType": "String"
     },
     "widgetInfo": {
      "widgetType": "text",
      "defaultValue": "",
      "label": null,
      "name": "env",
      "options": {
       "widgetType": "text",
       "autoCreated": null,
       "validationRegex": null
      }
     }
    },
    "storage_account_name": {
     "currentValue": "csadlsgen2project2",
     "nuid": "84de0db4-402b-4107-be00-f9f7cd42503a",
     "typedWidgetInfo": {
      "autoCreated": false,
      "defaultValue": "",
      "label": null,
      "name": "storage_account_name",
      "options": {
       "widgetDisplayType": "Text",
       "validationRegex": null
      },
      "parameterDataType": "String"
     },
     "widgetInfo": {
      "widgetType": "text",
      "defaultValue": "",
      "label": null,
      "name": "storage_account_name",
      "options": {
       "widgetType": "text",
       "autoCreated": null,
       "validationRegex": null
      }
     }
    }
   }
  },
  "language_info": {
   "name": "python"
  }
 },
 "nbformat": 4,
 "nbformat_minor": 0
}
