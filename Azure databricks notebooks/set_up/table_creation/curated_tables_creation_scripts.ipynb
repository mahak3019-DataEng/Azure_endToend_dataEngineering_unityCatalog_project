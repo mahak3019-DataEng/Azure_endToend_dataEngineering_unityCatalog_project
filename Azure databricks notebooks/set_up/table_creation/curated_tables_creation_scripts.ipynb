{
 "cells": [
  {
   "cell_type": "code",
   "execution_count": 0,
   "metadata": {
    "application/vnd.databricks.v1+cell": {
     "cellMetadata": {
      "byteLimit": 2048000,
      "rowLimit": 10000
     },
     "inputWidgets": {},
     "nuid": "f985d243-c6cc-46da-a74a-585d2eac8da8",
     "showTitle": false,
     "title": ""
    }
   },
   "outputs": [],
   "source": [
    "dbutils.widgets.text(\"env\",\"\")\n",
    "env = dbutils.widgets.get(\"env\")\n",
    "\n",
    "dbutils.widgets.text(\"storage_account_name\",\"\")\n",
    "storage_account_name = dbutils.widgets.get(\"storage_account_name\")"
   ]
  },
  {
   "cell_type": "code",
   "execution_count": 0,
   "metadata": {
    "application/vnd.databricks.v1+cell": {
     "cellMetadata": {
      "byteLimit": 2048000,
      "rowLimit": 10000
     },
     "inputWidgets": {},
     "nuid": "75bd5fc8-15fe-463b-8672-56f42718a890",
     "showTitle": false,
     "title": ""
    }
   },
   "outputs": [
    {
     "output_type": "execute_result",
     "data": {
      "text/plain": [
       "DataFrame[]"
      ]
     },
     "execution_count": 8,
     "metadata": {},
     "output_type": "execute_result"
    }
   ],
   "source": [
    "spark.sql(f\"\"\"\n",
    "    create database if not exists hive_metastore.{env}_curated \n",
    "\"\"\")"
   ]
  },
  {
   "cell_type": "code",
   "execution_count": 0,
   "metadata": {
    "application/vnd.databricks.v1+cell": {
     "cellMetadata": {
      "byteLimit": 2048000,
      "rowLimit": 10000
     },
     "inputWidgets": {},
     "nuid": "4875cc6e-4dd6-4f1a-9d44-da8830e63a5d",
     "showTitle": false,
     "title": ""
    }
   },
   "outputs": [
    {
     "output_type": "execute_result",
     "data": {
      "text/plain": [
       "DataFrame[]"
      ]
     },
     "execution_count": 9,
     "metadata": {},
     "output_type": "execute_result"
    }
   ],
   "source": [
    "spark.sql(f\"\"\"\n",
    "create or replace table {env}_curated.metrices_share (\n",
    "    \n",
    "    before_or_after_5g string,\n",
    "    city_name string,\n",
    "    month_name string,\n",
    "    time_period int,\n",
    "    dated string,\n",
    "    city_code int,\n",
    "    company string,\n",
    "    company_revenue_crores double,\n",
    "    arpu int,\n",
    "    active_users_lakhs double,\n",
    "    unsubscribed_users_lakhs double,\n",
    "    seq_no int,\n",
    "    last_inserted_dttm_azure timestamp,\n",
    "    last_updated_dttm_aws string,\n",
    "    loadId string   \n",
    ")\n",
    "partitioned by (city_code)\n",
    "location 'abfss://curated@{storage_account_name}.dfs.core.windows.net/metrices_share'\n",
    "\"\"\")"
   ]
  },
  {
   "cell_type": "code",
   "execution_count": 0,
   "metadata": {
    "application/vnd.databricks.v1+cell": {
     "cellMetadata": {
      "byteLimit": 2048000,
      "rowLimit": 10000
     },
     "inputWidgets": {},
     "nuid": "7d5d174a-0a64-4634-8a87-e90820492eb7",
     "showTitle": false,
     "title": ""
    }
   },
   "outputs": [
    {
     "output_type": "execute_result",
     "data": {
      "text/plain": [
       "DataFrame[]"
      ]
     },
     "execution_count": 10,
     "metadata": {},
     "output_type": "execute_result"
    }
   ],
   "source": [
    "spark.sql(f\"\"\"\n",
    "create or replace table {env}_curated.market_share (\n",
    "\n",
    "    before_or_after_5g string,\n",
    "    city_name string,\n",
    "    month_name string,\n",
    "    time_period int,\n",
    "    dated string,\n",
    "    city_code int,\n",
    "    tmv_city_crores double,\n",
    "    company string,\n",
    "    ms_pct double,\n",
    "    seq_no int,\n",
    "    last_inserted_dttm_azure timestamp,\n",
    "    last_updated_dttm_aws string,\n",
    "    loadId string    \n",
    ")\n",
    "partitioned by (city_code)\n",
    "location 'abfss://curated@{storage_account_name}.dfs.core.windows.net/market_share'\n",
    "\"\"\")"
   ]
  },
  {
   "cell_type": "code",
   "execution_count": 0,
   "metadata": {
    "application/vnd.databricks.v1+cell": {
     "cellMetadata": {
      "byteLimit": 2048000,
      "rowLimit": 10000
     },
     "inputWidgets": {},
     "nuid": "453e3747-6ee9-451b-b9be-845348f08ae0",
     "showTitle": false,
     "title": ""
    }
   },
   "outputs": [
    {
     "output_type": "execute_result",
     "data": {
      "text/plain": [
       "DataFrame[]"
      ]
     },
     "execution_count": 11,
     "metadata": {},
     "output_type": "execute_result"
    }
   ],
   "source": [
    "spark.sql(f\"\"\"\n",
    "create or replace table {env}_curated.plan_revenue (\n",
    "\n",
    "    before_or_after_5g string,\n",
    "    city_name string,\n",
    "    month_name string,\n",
    "    time_period int,\n",
    "    plan_description string,\n",
    "    dated string,\n",
    "    city_code int,\n",
    "    plan string,\n",
    "    plan_revenue_crores double,\n",
    "    seq_no int,\n",
    "    last_inserted_dttm_azure timestamp,\n",
    "    last_updated_dttm_aws string,\n",
    "    loadId string   \n",
    ")\n",
    "partitioned by (city_code)\n",
    "location 'abfss://curated@{storage_account_name}.dfs.core.windows.net/plan_revenue'\n",
    "\"\"\")"
   ]
  }
 ],
 "metadata": {
  "application/vnd.databricks.v1+notebook": {
   "dashboards": [],
   "environmentMetadata": {
    "base_environment": "",
    "client": "1"
   },
   "language": "python",
   "notebookMetadata": {
    "pythonIndentUnit": 4
   },
   "notebookName": "curated_tables_creation_scripts",
   "widgets": {
    "env": {
     "currentValue": "dev",
     "nuid": "b15a3530-41f9-4810-9109-1d563a2c70fb",
     "typedWidgetInfo": {
      "autoCreated": false,
      "defaultValue": "",
      "label": null,
      "name": "env",
      "options": {
       "widgetDisplayType": "Text",
       "validationRegex": null
      },
      "parameterDataType": "String"
     },
     "widgetInfo": {
      "widgetType": "text",
      "defaultValue": "",
      "label": null,
      "name": "env",
      "options": {
       "widgetType": "text",
       "autoCreated": null,
       "validationRegex": null
      }
     }
    },
    "storage_account_name": {
     "currentValue": "csadlsgen2project2",
     "nuid": "15822da2-7b79-4d62-afcf-4a18e2b03a65",
     "typedWidgetInfo": {
      "autoCreated": false,
      "defaultValue": "",
      "label": null,
      "name": "storage_account_name",
      "options": {
       "widgetDisplayType": "Text",
       "validationRegex": null
      },
      "parameterDataType": "String"
     },
     "widgetInfo": {
      "widgetType": "text",
      "defaultValue": "",
      "label": null,
      "name": "storage_account_name",
      "options": {
       "widgetType": "text",
       "autoCreated": null,
       "validationRegex": null
      }
     }
    }
   }
  },
  "language_info": {
   "name": "python"
  }
 },
 "nbformat": 4,
 "nbformat_minor": 0
}
