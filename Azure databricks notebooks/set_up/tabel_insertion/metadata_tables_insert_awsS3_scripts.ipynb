{
 "cells": [
  {
   "cell_type": "code",
   "execution_count": 0,
   "metadata": {
    "application/vnd.databricks.v1+cell": {
     "cellMetadata": {
      "byteLimit": 2048000,
      "rowLimit": 10000
     },
     "inputWidgets": {},
     "nuid": "a74112a7-80f1-460e-a372-c324c5d9468e",
     "showTitle": false,
     "title": ""
    }
   },
   "outputs": [],
   "source": [
    "dbutils.widgets.text(\"env\",\"\")\n",
    "env = dbutils.widgets.get(\"env\")\n",
    "\n",
    "dbutils.widgets.text(\"storage_account_name\",\"\")\n",
    "storage_account_name = dbutils.widgets.get(\"storage_account_name\")\n",
    "\n",
    "dbutils.widgets.text(\"adls_url\",\"\")\n",
    "adls_url = dbutils.widgets.get(\"adls_url\")\n",
    "\n",
    "dbutils.widgets.text(\"logic_app_url\",\"\")\n",
    "logic_app_url = dbutils.widgets.get(\"logic_app_url\")\n",
    "\n",
    "dbutils.widgets.text(\"email_id\",\"\")\n",
    "email_id = dbutils.widgets.get(\"email_id\")\n",
    "\n",
    "dbutils.widgets.text(\"aws_source_bucket\",\"\")\n",
    "aws_source_bucket = dbutils.widgets.get(\"aws_source_bucket\")"
   ]
  },
  {
   "cell_type": "code",
   "execution_count": 0,
   "metadata": {
    "application/vnd.databricks.v1+cell": {
     "cellMetadata": {
      "byteLimit": 2048000,
      "rowLimit": 10000
     },
     "inputWidgets": {},
     "nuid": "2b0496b7-ba64-4133-8bf3-e14c856d066b",
     "showTitle": false,
     "title": ""
    }
   },
   "outputs": [
    {
     "output_type": "execute_result",
     "data": {
      "text/plain": [
       "DataFrame[num_affected_rows: bigint, num_inserted_rows: bigint]"
      ]
     },
     "execution_count": 19,
     "metadata": {},
     "output_type": "execute_result"
    }
   ],
   "source": [
    "spark.sql(f\"\"\"\n",
    "    insert overwrite metadata_schema.tbl_source_control values\n",
    "    ('{aws_source_bucket}', '{storage_account_name}', '{adls_url}', 'landing', '{logic_app_url}', '{email_id}') \n",
    "\"\"\")"
   ]
  },
  {
   "cell_type": "code",
   "execution_count": 0,
   "metadata": {
    "application/vnd.databricks.v1+cell": {
     "cellMetadata": {
      "byteLimit": 2048000,
      "rowLimit": 10000
     },
     "inputWidgets": {},
     "nuid": "06884b14-fc3a-4e0c-9b44-17d9c81afa76",
     "showTitle": false,
     "title": ""
    }
   },
   "outputs": [
    {
     "output_type": "execute_result",
     "data": {
      "text/plain": [
       "DataFrame[num_affected_rows: bigint, num_inserted_rows: bigint]"
      ]
     },
     "execution_count": 5,
     "metadata": {},
     "output_type": "execute_result"
    }
   ],
   "source": [
    "spark.sql(f\"\"\"\n",
    "    insert into metadata_schema.tbl_parameters values\n",
    "    (201, 'telecom/dim_cities','2001-01-01T15:13:23.963Z','{env}_raw', 'dim_cities', '{env}_intermediate', 'dim_cities', NULL,NULL,NULL,NULL),\n",
    "    (202, 'telecom/dim_date','2001-01-01T15:13:23.963Z','{env}_raw', 'dim_date', '{env}_intermediate', 'dim_date', NULL,NULL,NULL,NULL),\n",
    "    (204, 'telecom/dim_plan','2001-01-01T15:13:23.963Z','{env}_raw', 'dim_plan', '{env}_intermediate', 'dim_plan', NULL,NULL,NULL,NULL)\n",
    "\"\"\")"
   ]
  },
  {
   "cell_type": "code",
   "execution_count": 0,
   "metadata": {
    "application/vnd.databricks.v1+cell": {
     "cellMetadata": {
      "byteLimit": 2048000,
      "rowLimit": 10000
     },
     "inputWidgets": {},
     "nuid": "afcb916d-9e89-4fd2-b2d8-3e35d7d1ec2e",
     "showTitle": false,
     "title": ""
    }
   },
   "outputs": [
    {
     "output_type": "execute_result",
     "data": {
      "text/plain": [
       "DataFrame[num_affected_rows: bigint, num_inserted_rows: bigint]"
      ]
     },
     "execution_count": 6,
     "metadata": {},
     "output_type": "execute_result"
    }
   ],
   "source": [
    "spark.sql(f\"\"\"\n",
    "    insert into metadata_schema.tbl_parameters values\n",
    "    (205, 'telecom/fact_company','2001-01-01T15:13:23.963Z','{env}_raw', 'fact_metrices_share', '{env}_intermediate', 'fact_metrices_share', NULL,NULL,NULL,NULL),\n",
    "    (206, 'telecom/fact_market','2001-01-01T15:13:23.963Z','{env}_raw', 'fact_market_share', '{env}_intermediate', 'fact_market_share', NULL,NULL,NULL,NULL),\n",
    "    (207, 'telecom/fact_plan','2001-01-01T15:13:23.963Z','{env}_raw', 'fact_plan_revenue', '{env}_intermediate', 'fact_plan_revenue', NULL,NULL,NULL,NULL)\n",
    "\"\"\")"
   ]
  },
  {
   "cell_type": "code",
   "execution_count": 0,
   "metadata": {
    "application/vnd.databricks.v1+cell": {
     "cellMetadata": {
      "byteLimit": 2048000,
      "implicitDf": true,
      "rowLimit": 10000
     },
     "inputWidgets": {},
     "nuid": "60982e2f-f1d8-4b41-9c02-0aac5cc47990",
     "showTitle": false,
     "title": ""
    }
   },
   "outputs": [
    {
     "output_type": "display_data",
     "data": {
      "text/html": [
       "<style scoped>\n",
       "  .table-result-container {\n",
       "    max-height: 300px;\n",
       "    overflow: auto;\n",
       "  }\n",
       "  table, th, td {\n",
       "    border: 1px solid black;\n",
       "    border-collapse: collapse;\n",
       "  }\n",
       "  th, td {\n",
       "    padding: 5px;\n",
       "  }\n",
       "  th {\n",
       "    text-align: left;\n",
       "  }\n",
       "</style><div class='table-result-container'><table class='table-result'><thead style='background-color: white'><tr><th>aws_source_bucket</th><th>storage_account</th><th>adls_url</th><th>container_name</th><th>logic_app_url</th><th>email_id</th></tr></thead><tbody><tr><td>telecom-adf</td><td>csadlsgen2project2</td><td>https://csadlsgen2project2.dfs.core.windows.net/</td><td>landing</td><td>https://prod-13.centralindia.logic.azure.com:443/workflows/31906722475143579d25daded276186b/triggers/When_a_HTTP_request_is_received/paths/invoke?api-version=2016-10-01&sp=%2Ftriggers%2FWhen_a_HTTP_request_is_received%2Frun&sv=1.0&sig=4Lgbpni28PAA93QRNi0L9wQ3wNVmArg5TDb2-dJTDGo</td><td>mahakajju30@gmail.com</td></tr></tbody></table></div>"
      ]
     },
     "metadata": {
      "application/vnd.databricks.v1+output": {
       "addedWidgets": {},
       "aggData": [],
       "aggError": "",
       "aggOverflow": false,
       "aggSchema": [],
       "aggSeriesLimitReached": false,
       "aggType": "",
       "arguments": {},
       "columnCustomDisplayInfos": {},
       "data": [
        [
         "telecom-adf",
         "csadlsgen2project2",
         "https://csadlsgen2project2.dfs.core.windows.net/",
         "landing",
         "https://prod-13.centralindia.logic.azure.com:443/workflows/31906722475143579d25daded276186b/triggers/When_a_HTTP_request_is_received/paths/invoke?api-version=2016-10-01&sp=%2Ftriggers%2FWhen_a_HTTP_request_is_received%2Frun&sv=1.0&sig=4Lgbpni28PAA93QRNi0L9wQ3wNVmArg5TDb2-dJTDGo",
         "mahakajju30@gmail.com"
        ]
       ],
       "datasetInfos": [],
       "dbfsResultPath": null,
       "isJsonSchema": true,
       "metadata": {
        "dataframeName": "_sqldf",
        "executionCount": 20
       },
       "overflow": false,
       "plotOptions": {
        "customPlotOptions": {},
        "displayType": "table",
        "pivotAggregation": null,
        "pivotColumns": null,
        "xColumns": null,
        "yColumns": null
       },
       "removedWidgets": [],
       "schema": [
        {
         "metadata": "{}",
         "name": "aws_source_bucket",
         "type": "\"string\""
        },
        {
         "metadata": "{}",
         "name": "storage_account",
         "type": "\"string\""
        },
        {
         "metadata": "{}",
         "name": "adls_url",
         "type": "\"string\""
        },
        {
         "metadata": "{}",
         "name": "container_name",
         "type": "\"string\""
        },
        {
         "metadata": "{}",
         "name": "logic_app_url",
         "type": "\"string\""
        },
        {
         "metadata": "{}",
         "name": "email_id",
         "type": "\"string\""
        }
       ],
       "type": "table"
      }
     },
     "output_type": "display_data"
    }
   ],
   "source": [
    "%sql\n",
    "select * from metadata_schema.tbl_source_control;"
   ]
  },
  {
   "cell_type": "code",
   "execution_count": 0,
   "metadata": {
    "application/vnd.databricks.v1+cell": {
     "cellMetadata": {
      "byteLimit": 2048000,
      "implicitDf": true,
      "rowLimit": 10000
     },
     "inputWidgets": {},
     "nuid": "2f5dc2bd-8b50-456d-8903-5015c9f5a36e",
     "showTitle": false,
     "title": ""
    }
   },
   "outputs": [
    {
     "output_type": "display_data",
     "data": {
      "text/html": [
       "<style scoped>\n",
       "  .table-result-container {\n",
       "    max-height: 300px;\n",
       "    overflow: auto;\n",
       "  }\n",
       "  table, th, td {\n",
       "    border: 1px solid black;\n",
       "    border-collapse: collapse;\n",
       "  }\n",
       "  th, td {\n",
       "    padding: 5px;\n",
       "  }\n",
       "  th {\n",
       "    text-align: left;\n",
       "  }\n",
       "</style><div class='table-result-container'><table class='table-result'><thead style='background-color: white'><tr><th>job_id</th><th>source_file_path</th><th>watermark_column</th><th>raw_schema</th><th>raw_tbl</th><th>intermediate_schema</th><th>intermediate_tbl</th><th>intermediate_query</th><th>curated_schema</th><th>curated_tbl</th><th>curated_query</th></tr></thead><tbody><tr><td>205</td><td>telecom/fact_company</td><td>2024-10-19T21:46:25Z</td><td>dev_raw</td><td>fact_metrices_share</td><td>dev_intermediate</td><td>fact_metrices_share</td><td>merge into {intermediate_schema}.{intermediate_table} target\n",
       "using temp_view source\n",
       "ON source.seq_no = target.seq_no\n",
       "WHEN MATCHED THEN\n",
       "    UPDATE SET\n",
       "        target.dated = source.dated,\n",
       "        target.city_code = source.city_code,\n",
       "        target.company = source.company,\n",
       "        target.company_revenue_crores = source.company_revenue_crores,\n",
       "        target.arpu = source.arpu,\n",
       "        target.active_users_lakhs = source.active_users_lakhs,\n",
       "        target.unsubscribed_users_lakhs = source.unsubscribed_users_lakhs,\n",
       "        target.seq_no = source.seq_no,\n",
       "        target.last_inserted_dttm_azure = source.last_inserted_dttm_azure,\n",
       "        target.last_updated_dttm_aws = source.last_updated_dttm_aws\n",
       "WHEN NOT MATCHED THEN\n",
       "    INSERT (dated, city_code, company, company_revenue_crores, arpu, active_users_lakhs, unsubscribed_users_lakhs, seq_no, last_inserted_dttm_azure, last_updated_dttm_aws, loadId)\n",
       "    VALUES (source.dated, source.city_code, source.company, source.company_revenue_crores, source.arpu, source.active_users_lakhs, source.unsubscribed_users_lakhs, source.seq_no, source.last_inserted_dttm_azure, source.last_updated_dttm_aws, source.loadId)</td><td>null</td><td>null</td><td>null</td></tr><tr><td>207</td><td>telecom/fact_plan</td><td>2024-10-19T21:47:10Z</td><td>dev_raw</td><td>fact_plan_revenue</td><td>dev_intermediate</td><td>fact_plan_revenue</td><td>merge into {intermediate_schema}.{intermediate_table} target\n",
       "USING temp_view source\n",
       "ON target.loadId = source.loadId\n",
       "WHEN MATCHED THEN\n",
       "    UPDATE SET\n",
       "        target.dated = source.dated,\n",
       "        target.city_code = source.city_code,\n",
       "        target.plans = source.plans,\n",
       "        target.plan_revenue_crores = source.plan_revenue_crores,\n",
       "        target.seq_no = source.seq_no,\n",
       "        target.last_inserted_dttm_azure = source.last_inserted_dttm_azure,\n",
       "        target.last_updated_dttm_aws = source.last_updated_dttm_aws\n",
       "WHEN NOT MATCHED THEN\n",
       "    INSERT (dated, city_code, plans, plan_revenue_crores, seq_no, last_inserted_dttm_azure, last_updated_dttm_aws, loadId)\n",
       "    VALUES (source.dated, source.city_code, source.plans, source.plan_revenue_crores, source.seq_no, source.last_inserted_dttm_azure, source.last_updated_dttm_aws, source.loadId)</td><td>null</td><td>null</td><td>null</td></tr><tr><td>201</td><td>telecom/dim_cities</td><td>2024-10-20T22:07:21Z</td><td>dev_raw</td><td>dim_cities</td><td>dev_intermediate</td><td>dim_cities</td><td>null</td><td>null</td><td>null</td><td>null</td></tr><tr><td>204</td><td>telecom/dim_plan</td><td>2024-10-20T15:12:52Z</td><td>dev_raw</td><td>dim_plan</td><td>dev_intermediate</td><td>dim_plan</td><td>null</td><td>null</td><td>null</td><td>null</td></tr><tr><td>202</td><td>telecom/dim_date</td><td>2024-10-20T15:12:19Z</td><td>dev_raw</td><td>dim_date</td><td>dev_intermediate</td><td>dim_date</td><td>null</td><td>null</td><td>null</td><td>null</td></tr><tr><td>206</td><td>telecom/fact_market</td><td>2024-10-19T21:46:48Z</td><td>dev_raw</td><td>fact_market_share</td><td>dev_intermediate</td><td>fact_market_share</td><td>merge into {intermediate_schema}.{intermediate_table} target\n",
       "using temp_view source\n",
       "on source.seq_no = target.seq_no\n",
       "when matched then\n",
       "update set\n",
       "target.dated = source.dated,\n",
       "target.city_code = source.city_code,\n",
       "target.tmv_city_crores = source.tmv_city_crores,\n",
       "target.company = source.company,\n",
       "target.ms_pct = source.ms_pct,\n",
       "target.seq_no = source.seq_no,\n",
       "target.last_inserted_dttm_azure = source.last_inserted_dttm_azure,\n",
       "target.last_updated_dttm_aws = source.last_updated_dttm_aws\n",
       "\n",
       "when not matched then\n",
       "insert (dated, city_code, tmv_city_crores, company, ms_pct, seq_no, last_inserted_dttm_azure, last_updated_dttm_aws, loadId)\n",
       "values (source.dated, source.city_code, source.tmv_city_crores, source.company, source.ms_pct, source.seq_no, source.last_inserted_dttm_azure, source.last_updated_dttm_aws, source.loadId)</td><td>null</td><td>null</td><td>null</td></tr></tbody></table></div>"
      ]
     },
     "metadata": {
      "application/vnd.databricks.v1+output": {
       "addedWidgets": {},
       "aggData": [],
       "aggError": "",
       "aggOverflow": false,
       "aggSchema": [],
       "aggSeriesLimitReached": false,
       "aggType": "",
       "arguments": {},
       "columnCustomDisplayInfos": {},
       "data": [
        [
         205,
         "telecom/fact_company",
         "2024-10-19T21:46:25Z",
         "dev_raw",
         "fact_metrices_share",
         "dev_intermediate",
         "fact_metrices_share",
         "merge into {intermediate_schema}.{intermediate_table} target\nusing temp_view source\nON source.seq_no = target.seq_no\nWHEN MATCHED THEN\n    UPDATE SET\n        target.dated = source.dated,\n        target.city_code = source.city_code,\n        target.company = source.company,\n        target.company_revenue_crores = source.company_revenue_crores,\n        target.arpu = source.arpu,\n        target.active_users_lakhs = source.active_users_lakhs,\n        target.unsubscribed_users_lakhs = source.unsubscribed_users_lakhs,\n        target.seq_no = source.seq_no,\n        target.last_inserted_dttm_azure = source.last_inserted_dttm_azure,\n        target.last_updated_dttm_aws = source.last_updated_dttm_aws\nWHEN NOT MATCHED THEN\n    INSERT (dated, city_code, company, company_revenue_crores, arpu, active_users_lakhs, unsubscribed_users_lakhs, seq_no, last_inserted_dttm_azure, last_updated_dttm_aws, loadId)\n    VALUES (source.dated, source.city_code, source.company, source.company_revenue_crores, source.arpu, source.active_users_lakhs, source.unsubscribed_users_lakhs, source.seq_no, source.last_inserted_dttm_azure, source.last_updated_dttm_aws, source.loadId)",
         null,
         null,
         null
        ],
        [
         207,
         "telecom/fact_plan",
         "2024-10-19T21:47:10Z",
         "dev_raw",
         "fact_plan_revenue",
         "dev_intermediate",
         "fact_plan_revenue",
         "merge into {intermediate_schema}.{intermediate_table} target\nUSING temp_view source\nON target.loadId = source.loadId\nWHEN MATCHED THEN\n    UPDATE SET\n        target.dated = source.dated,\n        target.city_code = source.city_code,\n        target.plans = source.plans,\n        target.plan_revenue_crores = source.plan_revenue_crores,\n        target.seq_no = source.seq_no,\n        target.last_inserted_dttm_azure = source.last_inserted_dttm_azure,\n        target.last_updated_dttm_aws = source.last_updated_dttm_aws\nWHEN NOT MATCHED THEN\n    INSERT (dated, city_code, plans, plan_revenue_crores, seq_no, last_inserted_dttm_azure, last_updated_dttm_aws, loadId)\n    VALUES (source.dated, source.city_code, source.plans, source.plan_revenue_crores, source.seq_no, source.last_inserted_dttm_azure, source.last_updated_dttm_aws, source.loadId)",
         null,
         null,
         null
        ],
        [
         201,
         "telecom/dim_cities",
         "2024-10-20T22:07:21Z",
         "dev_raw",
         "dim_cities",
         "dev_intermediate",
         "dim_cities",
         null,
         null,
         null,
         null
        ],
        [
         204,
         "telecom/dim_plan",
         "2024-10-20T15:12:52Z",
         "dev_raw",
         "dim_plan",
         "dev_intermediate",
         "dim_plan",
         null,
         null,
         null,
         null
        ],
        [
         202,
         "telecom/dim_date",
         "2024-10-20T15:12:19Z",
         "dev_raw",
         "dim_date",
         "dev_intermediate",
         "dim_date",
         null,
         null,
         null,
         null
        ],
        [
         206,
         "telecom/fact_market",
         "2024-10-19T21:46:48Z",
         "dev_raw",
         "fact_market_share",
         "dev_intermediate",
         "fact_market_share",
         "merge into {intermediate_schema}.{intermediate_table} target\nusing temp_view source\non source.seq_no = target.seq_no\nwhen matched then\nupdate set\ntarget.dated = source.dated,\ntarget.city_code = source.city_code,\ntarget.tmv_city_crores = source.tmv_city_crores,\ntarget.company = source.company,\ntarget.ms_pct = source.ms_pct,\ntarget.seq_no = source.seq_no,\ntarget.last_inserted_dttm_azure = source.last_inserted_dttm_azure,\ntarget.last_updated_dttm_aws = source.last_updated_dttm_aws\n\nwhen not matched then\ninsert (dated, city_code, tmv_city_crores, company, ms_pct, seq_no, last_inserted_dttm_azure, last_updated_dttm_aws, loadId)\nvalues (source.dated, source.city_code, source.tmv_city_crores, source.company, source.ms_pct, source.seq_no, source.last_inserted_dttm_azure, source.last_updated_dttm_aws, source.loadId)",
         null,
         null,
         null
        ]
       ],
       "datasetInfos": [],
       "dbfsResultPath": null,
       "isJsonSchema": true,
       "metadata": {
        "dataframeName": "_sqldf",
        "executionCount": 6
       },
       "overflow": false,
       "plotOptions": {
        "customPlotOptions": {},
        "displayType": "table",
        "pivotAggregation": null,
        "pivotColumns": null,
        "xColumns": null,
        "yColumns": null
       },
       "removedWidgets": [],
       "schema": [
        {
         "metadata": "{}",
         "name": "job_id",
         "type": "\"integer\""
        },
        {
         "metadata": "{}",
         "name": "source_file_path",
         "type": "\"string\""
        },
        {
         "metadata": "{}",
         "name": "watermark_column",
         "type": "\"timestamp\""
        },
        {
         "metadata": "{}",
         "name": "raw_schema",
         "type": "\"string\""
        },
        {
         "metadata": "{}",
         "name": "raw_tbl",
         "type": "\"string\""
        },
        {
         "metadata": "{}",
         "name": "intermediate_schema",
         "type": "\"string\""
        },
        {
         "metadata": "{}",
         "name": "intermediate_tbl",
         "type": "\"string\""
        },
        {
         "metadata": "{}",
         "name": "intermediate_query",
         "type": "\"string\""
        },
        {
         "metadata": "{}",
         "name": "curated_schema",
         "type": "\"string\""
        },
        {
         "metadata": "{}",
         "name": "curated_tbl",
         "type": "\"string\""
        },
        {
         "metadata": "{}",
         "name": "curated_query",
         "type": "\"string\""
        }
       ],
       "type": "table"
      }
     },
     "output_type": "display_data"
    }
   ],
   "source": [
    "%sql\n",
    "select * from metadata_schema.tbl_parameters;"
   ]
  },
  {
   "cell_type": "code",
   "execution_count": 0,
   "metadata": {
    "application/vnd.databricks.v1+cell": {
     "cellMetadata": {
      "byteLimit": 2048000,
      "implicitDf": true,
      "rowLimit": 10000
     },
     "inputWidgets": {},
     "nuid": "fdf6f0d3-3841-4139-80f1-03b47500702a",
     "showTitle": false,
     "title": ""
    }
   },
   "outputs": [
    {
     "output_type": "display_data",
     "data": {
      "text/html": [
       "<style scoped>\n",
       "  .table-result-container {\n",
       "    max-height: 300px;\n",
       "    overflow: auto;\n",
       "  }\n",
       "  table, th, td {\n",
       "    border: 1px solid black;\n",
       "    border-collapse: collapse;\n",
       "  }\n",
       "  th, td {\n",
       "    padding: 5px;\n",
       "  }\n",
       "  th {\n",
       "    text-align: left;\n",
       "  }\n",
       "</style><div class='table-result-container'><table class='table-result'><thead style='background-color: white'><tr><th>job_id</th><th>source_file_path</th><th>watermark_column</th><th>raw_schema</th><th>raw_tbl</th><th>intermediate_schema</th><th>intermediate_tbl</th><th>intermediate_query</th><th>curated_schema</th><th>curated_tbl</th><th>curated_query</th><th>aws_source_bucket</th><th>storage_account</th><th>adls_url</th><th>container_name</th><th>logic_app_url</th><th>email_id</th></tr></thead><tbody><tr><td>201</td><td>telecom/dim_cities</td><td>2001-01-01T15:13:23.963Z</td><td>dev_raw</td><td>dim_cities</td><td>dev_intermediate</td><td>dim_cities</td><td>null</td><td>null</td><td>null</td><td>null</td><td>telecom-adf</td><td>csadlsgen2project2</td><td>https://csadlsgen2project2.dfs.core.windows.net/</td><td>landing</td><td></td><td>mahakajju30@gmail.com</td></tr></tbody></table></div>"
      ]
     },
     "metadata": {
      "application/vnd.databricks.v1+output": {
       "addedWidgets": {},
       "aggData": [],
       "aggError": "",
       "aggOverflow": false,
       "aggSchema": [],
       "aggSeriesLimitReached": false,
       "aggType": "",
       "arguments": {},
       "columnCustomDisplayInfos": {},
       "data": [
        [
         201,
         "telecom/dim_cities",
         "2001-01-01T15:13:23.963Z",
         "dev_raw",
         "dim_cities",
         "dev_intermediate",
         "dim_cities",
         null,
         null,
         null,
         null,
         "telecom-adf",
         "csadlsgen2project2",
         "https://csadlsgen2project2.dfs.core.windows.net/",
         "landing",
         "",
         "mahakajju30@gmail.com"
        ]
       ],
       "datasetInfos": [],
       "dbfsResultPath": null,
       "isJsonSchema": true,
       "metadata": {
        "dataframeName": "_sqldf",
        "executionCount": 6
       },
       "overflow": false,
       "plotOptions": {
        "customPlotOptions": {},
        "displayType": "table",
        "pivotAggregation": null,
        "pivotColumns": null,
        "xColumns": null,
        "yColumns": null
       },
       "removedWidgets": [],
       "schema": [
        {
         "metadata": "{}",
         "name": "job_id",
         "type": "\"integer\""
        },
        {
         "metadata": "{}",
         "name": "source_file_path",
         "type": "\"string\""
        },
        {
         "metadata": "{}",
         "name": "watermark_column",
         "type": "\"timestamp\""
        },
        {
         "metadata": "{}",
         "name": "raw_schema",
         "type": "\"string\""
        },
        {
         "metadata": "{}",
         "name": "raw_tbl",
         "type": "\"string\""
        },
        {
         "metadata": "{}",
         "name": "intermediate_schema",
         "type": "\"string\""
        },
        {
         "metadata": "{}",
         "name": "intermediate_tbl",
         "type": "\"string\""
        },
        {
         "metadata": "{}",
         "name": "intermediate_query",
         "type": "\"string\""
        },
        {
         "metadata": "{}",
         "name": "curated_schema",
         "type": "\"string\""
        },
        {
         "metadata": "{}",
         "name": "curated_tbl",
         "type": "\"string\""
        },
        {
         "metadata": "{}",
         "name": "curated_query",
         "type": "\"string\""
        },
        {
         "metadata": "{}",
         "name": "aws_source_bucket",
         "type": "\"string\""
        },
        {
         "metadata": "{}",
         "name": "storage_account",
         "type": "\"string\""
        },
        {
         "metadata": "{}",
         "name": "adls_url",
         "type": "\"string\""
        },
        {
         "metadata": "{}",
         "name": "container_name",
         "type": "\"string\""
        },
        {
         "metadata": "{}",
         "name": "logic_app_url",
         "type": "\"string\""
        },
        {
         "metadata": "{}",
         "name": "email_id",
         "type": "\"string\""
        }
       ],
       "type": "table"
      }
     },
     "output_type": "display_data"
    }
   ],
   "source": [
    "%sql\n",
    "select param.*, control.* from metadata_schema.tbl_source_control as control, metadata_schema.tbl_parameters as param where param.job_id=201;"
   ]
  },
  {
   "cell_type": "code",
   "execution_count": 0,
   "metadata": {
    "application/vnd.databricks.v1+cell": {
     "cellMetadata": {
      "byteLimit": 2048000,
      "implicitDf": true,
      "rowLimit": 10000
     },
     "inputWidgets": {},
     "nuid": "52b18650-d18c-4c55-b1fa-cdecd952ee8a",
     "showTitle": false,
     "title": ""
    }
   },
   "outputs": [
    {
     "output_type": "display_data",
     "data": {
      "text/html": [
       "<style scoped>\n",
       "  .table-result-container {\n",
       "    max-height: 300px;\n",
       "    overflow: auto;\n",
       "  }\n",
       "  table, th, td {\n",
       "    border: 1px solid black;\n",
       "    border-collapse: collapse;\n",
       "  }\n",
       "  th, td {\n",
       "    padding: 5px;\n",
       "  }\n",
       "  th {\n",
       "    text-align: left;\n",
       "  }\n",
       "</style><div class='table-result-container'><table class='table-result'><thead style='background-color: white'><tr><th>num_affected_rows</th></tr></thead><tbody><tr><td>1</td></tr></tbody></table></div>"
      ]
     },
     "metadata": {
      "application/vnd.databricks.v1+output": {
       "addedWidgets": {},
       "aggData": [],
       "aggError": "",
       "aggOverflow": false,
       "aggSchema": [],
       "aggSeriesLimitReached": false,
       "aggType": "",
       "arguments": {},
       "columnCustomDisplayInfos": {},
       "data": [
        [
         1
        ]
       ],
       "datasetInfos": [],
       "dbfsResultPath": null,
       "isJsonSchema": true,
       "metadata": {
        "dataframeName": "_sqldf",
        "executionCount": 3
       },
       "overflow": false,
       "plotOptions": {
        "customPlotOptions": {},
        "displayType": "table",
        "pivotAggregation": null,
        "pivotColumns": null,
        "xColumns": null,
        "yColumns": null
       },
       "removedWidgets": [],
       "schema": [
        {
         "metadata": "{}",
         "name": "num_affected_rows",
         "type": "\"long\""
        }
       ],
       "type": "table"
      }
     },
     "output_type": "display_data"
    }
   ],
   "source": [
    "%sql\n",
    "update metadata_schema.tbl_parameters set intermediate_query = 'merge into {intermediate_schema}.{intermediate_table} target\n",
    "using temp_view source\n",
    "on source.seq_no = target.seq_no\n",
    "when matched then\n",
    "update set\n",
    "target.dated = source.dated,\n",
    "target.city_code = source.city_code,\n",
    "target.tmv_city_crores = source.tmv_city_crores,\n",
    "target.company = source.company,\n",
    "target.ms_pct = source.ms_pct,\n",
    "target.seq_no = source.seq_no,\n",
    "target.last_inserted_dttm_azure = source.last_inserted_dttm_azure,\n",
    "target.last_updated_dttm_aws = source.last_updated_dttm_aws,\n",
    "target.loadId = source.loadId\n",
    "when not matched then\n",
    "insert (target.dated,\n",
    "      target.city_code,\n",
    "      target.tmv_city_crores,\n",
    "      target.company,\n",
    "      target.ms_pct,\n",
    "      target.seq_no,\n",
    "      target.last_inserted_dttm_azure,\n",
    "      target.last_updated_dttm_aws,\n",
    "      target.loadId)\n",
    "values (source.dated, source.city_code, source.tmv_city_crores, source.company, source.ms_pct, source.seq_no, source.last_inserted_dttm_azure, source.last_updated_dttm_aws, source.loadId)'\n",
    "where job_id = 206;"
   ]
  },
  {
   "cell_type": "code",
   "execution_count": 0,
   "metadata": {
    "application/vnd.databricks.v1+cell": {
     "cellMetadata": {
      "byteLimit": 2048000,
      "implicitDf": true,
      "rowLimit": 10000
     },
     "inputWidgets": {},
     "nuid": "67f5857e-8390-4d91-bc14-0f18c8b71acc",
     "showTitle": false,
     "title": ""
    }
   },
   "outputs": [
    {
     "output_type": "display_data",
     "data": {
      "text/html": [
       "<style scoped>\n",
       "  .table-result-container {\n",
       "    max-height: 300px;\n",
       "    overflow: auto;\n",
       "  }\n",
       "  table, th, td {\n",
       "    border: 1px solid black;\n",
       "    border-collapse: collapse;\n",
       "  }\n",
       "  th, td {\n",
       "    padding: 5px;\n",
       "  }\n",
       "  th {\n",
       "    text-align: left;\n",
       "  }\n",
       "</style><div class='table-result-container'><table class='table-result'><thead style='background-color: white'><tr><th>num_affected_rows</th></tr></thead><tbody><tr><td>1</td></tr></tbody></table></div>"
      ]
     },
     "metadata": {
      "application/vnd.databricks.v1+output": {
       "addedWidgets": {},
       "aggData": [],
       "aggError": "",
       "aggOverflow": false,
       "aggSchema": [],
       "aggSeriesLimitReached": false,
       "aggType": "",
       "arguments": {},
       "columnCustomDisplayInfos": {},
       "data": [
        [
         1
        ]
       ],
       "datasetInfos": [],
       "dbfsResultPath": null,
       "isJsonSchema": true,
       "metadata": {
        "dataframeName": "_sqldf",
        "executionCount": 2
       },
       "overflow": false,
       "plotOptions": {
        "customPlotOptions": {},
        "displayType": "table",
        "pivotAggregation": null,
        "pivotColumns": null,
        "xColumns": null,
        "yColumns": null
       },
       "removedWidgets": [],
       "schema": [
        {
         "metadata": "{}",
         "name": "num_affected_rows",
         "type": "\"long\""
        }
       ],
       "type": "table"
      }
     },
     "output_type": "display_data"
    }
   ],
   "source": [
    "%sql\n",
    "update metadata_schema.tbl_parameters set intermediate_query = 'merge into {intermediate_schema}.{intermediate_table} target\n",
    "using temp_view source\n",
    "ON source.seq_no = target.seq_no\n",
    "WHEN MATCHED THEN\n",
    "    UPDATE SET\n",
    "        target.dated = source.dated,\n",
    "        target.city_code = source.city_code,\n",
    "        target.company = source.company,\n",
    "        target.company_revenue_crores = source.company_revenue_crores,\n",
    "        target.arpu = source.arpu,\n",
    "        target.active_users_lakhs = source.active_users_lakhs,\n",
    "        target.unsubscribed_users_lakhs = source.unsubscribed_users_lakhs,\n",
    "        target.seq_no = source.seq_no,\n",
    "        target.last_inserted_dttm_azure = source.last_inserted_dttm_azure,\n",
    "        target.last_updated_dttm_aws = source.last_updated_dttm_aws,\n",
    "        target.loadId = source.loadId\n",
    "WHEN NOT MATCHED THEN\n",
    "    insert (\n",
    "      target.dated,\n",
    "      target.city_code,\n",
    "      target.company,\n",
    "      target.company_revenue_crores,\n",
    "      target.arpu,\n",
    "      target.active_users_lakhs,\n",
    "      target.unsubscribed_users_lakhs,\n",
    "      target.seq_no,\n",
    "      target.last_inserted_dttm_azure,\n",
    "      target.last_updated_dttm_aws,\n",
    "      target.loadId\n",
    "    )\n",
    "    values (\n",
    "      source.dated,\n",
    "      source.city_code,\n",
    "      source.company,\n",
    "      source.company_revenue_crores,\n",
    "      source.arpu,\n",
    "      source.active_users_lakhs,\n",
    "      source.unsubscribed_users_lakhs,\n",
    "      source.seq_no,\n",
    "      source.last_inserted_dttm_azure,\n",
    "      source.last_updated_dttm_aws,\n",
    "      source.loadId\n",
    "    )'\n",
    "where job_id = 205"
   ]
  },
  {
   "cell_type": "code",
   "execution_count": 0,
   "metadata": {
    "application/vnd.databricks.v1+cell": {
     "cellMetadata": {
      "byteLimit": 2048000,
      "implicitDf": true,
      "rowLimit": 10000
     },
     "inputWidgets": {},
     "nuid": "7d658a62-a886-4ee8-bfb2-15a0fc1151c8",
     "showTitle": false,
     "title": ""
    }
   },
   "outputs": [
    {
     "output_type": "display_data",
     "data": {
      "text/html": [
       "<style scoped>\n",
       "  .table-result-container {\n",
       "    max-height: 300px;\n",
       "    overflow: auto;\n",
       "  }\n",
       "  table, th, td {\n",
       "    border: 1px solid black;\n",
       "    border-collapse: collapse;\n",
       "  }\n",
       "  th, td {\n",
       "    padding: 5px;\n",
       "  }\n",
       "  th {\n",
       "    text-align: left;\n",
       "  }\n",
       "</style><div class='table-result-container'><table class='table-result'><thead style='background-color: white'><tr><th>num_affected_rows</th></tr></thead><tbody><tr><td>1</td></tr></tbody></table></div>"
      ]
     },
     "metadata": {
      "application/vnd.databricks.v1+output": {
       "addedWidgets": {},
       "aggData": [],
       "aggError": "",
       "aggOverflow": false,
       "aggSchema": [],
       "aggSeriesLimitReached": false,
       "aggType": "",
       "arguments": {},
       "columnCustomDisplayInfos": {},
       "data": [
        [
         1
        ]
       ],
       "datasetInfos": [],
       "dbfsResultPath": null,
       "isJsonSchema": true,
       "metadata": {
        "dataframeName": "_sqldf",
        "executionCount": 4
       },
       "overflow": false,
       "plotOptions": {
        "customPlotOptions": {},
        "displayType": "table",
        "pivotAggregation": null,
        "pivotColumns": null,
        "xColumns": null,
        "yColumns": null
       },
       "removedWidgets": [],
       "schema": [
        {
         "metadata": "{}",
         "name": "num_affected_rows",
         "type": "\"long\""
        }
       ],
       "type": "table"
      }
     },
     "output_type": "display_data"
    }
   ],
   "source": [
    "%sql\n",
    "update metadata_schema.tbl_parameters set intermediate_query = 'merge into {intermediate_schema}.{intermediate_table} target\n",
    "USING temp_view source\n",
    "ON target.loadId = source.loadId\n",
    "WHEN MATCHED THEN\n",
    "    UPDATE SET\n",
    "        target.dated = source.dated,\n",
    "        target.city_code = source.city_code,\n",
    "        target.plans = source.plans,\n",
    "        target.plan_revenue_crores = source.plan_revenue_crores,\n",
    "        target.seq_no = source.seq_no,\n",
    "        target.last_inserted_dttm_azure = source.last_inserted_dttm_azure,\n",
    "        target.last_updated_dttm_aws = source.last_updated_dttm_aws,\n",
    "        target.loadId = source.loadId\n",
    "WHEN NOT MATCHED THEN\n",
    "    INSERT (target.dated,\n",
    "      target.city_code,\n",
    "      target.plans,\n",
    "      target.plan_revenue_crores,\n",
    "      target.seq_no,\n",
    "      target.last_inserted_dttm_azure,\n",
    "      target.last_updated_dttm_aws,\n",
    "      target.loadId)\n",
    "    VALUES (source.dated, source.city_code, source.plans, source.plan_revenue_crores, source.seq_no, source.last_inserted_dttm_azure, source.last_updated_dttm_aws, source.loadId)'\n",
    "where job_id = 207;"
   ]
  },
  {
   "cell_type": "code",
   "execution_count": 0,
   "metadata": {
    "application/vnd.databricks.v1+cell": {
     "cellMetadata": {
      "byteLimit": 2048000,
      "implicitDf": true,
      "rowLimit": 10000
     },
     "inputWidgets": {},
     "nuid": "49492753-7057-47f3-b19f-ab9da4ae509c",
     "showTitle": false,
     "title": ""
    }
   },
   "outputs": [
    {
     "output_type": "display_data",
     "data": {
      "text/html": [
       "<style scoped>\n",
       "  .table-result-container {\n",
       "    max-height: 300px;\n",
       "    overflow: auto;\n",
       "  }\n",
       "  table, th, td {\n",
       "    border: 1px solid black;\n",
       "    border-collapse: collapse;\n",
       "  }\n",
       "  th, td {\n",
       "    padding: 5px;\n",
       "  }\n",
       "  th {\n",
       "    text-align: left;\n",
       "  }\n",
       "</style><div class='table-result-container'><table class='table-result'><thead style='background-color: white'><tr><th>num_affected_rows</th></tr></thead><tbody><tr><td>1</td></tr></tbody></table></div>"
      ]
     },
     "metadata": {
      "application/vnd.databricks.v1+output": {
       "addedWidgets": {},
       "aggData": [],
       "aggError": "",
       "aggOverflow": false,
       "aggSchema": [],
       "aggSeriesLimitReached": false,
       "aggType": "",
       "arguments": {},
       "columnCustomDisplayInfos": {},
       "data": [
        [
         1
        ]
       ],
       "datasetInfos": [],
       "dbfsResultPath": null,
       "isJsonSchema": true,
       "metadata": {
        "dataframeName": "_sqldf",
        "executionCount": 15
       },
       "overflow": false,
       "plotOptions": {
        "customPlotOptions": {},
        "displayType": "table",
        "pivotAggregation": null,
        "pivotColumns": null,
        "xColumns": null,
        "yColumns": null
       },
       "removedWidgets": [],
       "schema": [
        {
         "metadata": "{}",
         "name": "num_affected_rows",
         "type": "\"long\""
        }
       ],
       "type": "table"
      }
     },
     "output_type": "display_data"
    }
   ],
   "source": [
    "%sql\n",
    "update metadata_schema.tbl_parameters set curated_query = \"WITH result AS (\n",
    "    SELECT\n",
    "        dd.before_or_after_5g,\n",
    "        cities.city_name,\n",
    "        dd.month_name,\n",
    "        dd.time_period,\n",
    "        pl.plan_description,\n",
    "        revenue.*\n",
    "    FROM \n",
    "        {intermediate_schema}.fact_plan_revenue AS revenue\n",
    "    JOIN \n",
    "        {intermediate_schema}.dim_date AS dd ON revenue.dated = dd.dated\n",
    "    JOIN \n",
    "        {intermediate_schema}.dim_cities AS cities ON revenue.city_code = cities.city_code\n",
    "    JOIN \n",
    "        {intermediate_schema}.dim_plan AS pl ON revenue.plans = pl.plan\n",
    ")\n",
    "MERGE INTO {curated_schema}.{curated_table} AS target\n",
    "USING result AS source\n",
    "ON source.seq_no = target.seq_no\n",
    "WHEN MATCHED THEN\n",
    "    UPDATE SET \n",
    "        target.before_or_after_5g = source.before_or_after_5g,\n",
    "        target.city_name = source.city_name,\n",
    "        target.month_name = source.month_name,\n",
    "        target.time_period = source.time_period,\n",
    "        target.plan_description = source.plan_description,\n",
    "        target.dated = source.dated,\n",
    "        target.city_code = source.city_code,\n",
    "        target.plan = source.plans,\n",
    "        target.plan_revenue_crores = source.plan_revenue_crores,\n",
    "        target.seq_no = source.seq_no,\n",
    "        target.last_inserted_dttm_azure = source.last_inserted_dttm_azure,\n",
    "        target.last_updated_dttm_aws = source.last_updated_dttm_aws,\n",
    "        target.loadId = '{loadId}'\n",
    "WHEN NOT MATCHED THEN\n",
    "    INSERT (\n",
    "        target.before_or_after_5g,\n",
    "        target.city_name,\n",
    "        target.month_name,\n",
    "        target.time_period,\n",
    "        target.plan_description,\n",
    "        target.dated,\n",
    "        target.city_code,\n",
    "        target.plan,\n",
    "        target.plan_revenue_crores,\n",
    "        target.seq_no,\n",
    "        target.last_inserted_dttm_azure,\n",
    "        target.last_updated_dttm_aws,\n",
    "        target.loadId\n",
    "    )\n",
    "    VALUES (\n",
    "        source.before_or_after_5g,\n",
    "        source.city_name,\n",
    "        source.month_name,\n",
    "        source.time_period,\n",
    "        source.plan_description,\n",
    "        source.dated,\n",
    "        source.city_code,\n",
    "        source.plans,\n",
    "        source.plan_revenue_crores,\n",
    "        source.seq_no,\n",
    "        source.last_inserted_dttm_azure,\n",
    "        source.last_updated_dttm_aws,\n",
    "        '{loadId}'\n",
    "    )\n",
    "  \"\n",
    "  where job_id = 210;\n"
   ]
  },
  {
   "cell_type": "code",
   "execution_count": 0,
   "metadata": {
    "application/vnd.databricks.v1+cell": {
     "cellMetadata": {
      "byteLimit": 2048000,
      "implicitDf": true,
      "rowLimit": 10000
     },
     "inputWidgets": {},
     "nuid": "2c07343e-c5cc-47c6-8e23-8618f38cf188",
     "showTitle": false,
     "title": ""
    }
   },
   "outputs": [
    {
     "output_type": "display_data",
     "data": {
      "text/html": [
       "<style scoped>\n",
       "  .table-result-container {\n",
       "    max-height: 300px;\n",
       "    overflow: auto;\n",
       "  }\n",
       "  table, th, td {\n",
       "    border: 1px solid black;\n",
       "    border-collapse: collapse;\n",
       "  }\n",
       "  th, td {\n",
       "    padding: 5px;\n",
       "  }\n",
       "  th {\n",
       "    text-align: left;\n",
       "  }\n",
       "</style><div class='table-result-container'><table class='table-result'><thead style='background-color: white'><tr><th>num_affected_rows</th><th>num_inserted_rows</th></tr></thead><tbody><tr><td>3</td><td>3</td></tr></tbody></table></div>"
      ]
     },
     "metadata": {
      "application/vnd.databricks.v1+output": {
       "addedWidgets": {},
       "aggData": [],
       "aggError": "",
       "aggOverflow": false,
       "aggSchema": [],
       "aggSeriesLimitReached": false,
       "aggType": "",
       "arguments": {},
       "columnCustomDisplayInfos": {},
       "data": [
        [
         3,
         3
        ]
       ],
       "datasetInfos": [],
       "dbfsResultPath": null,
       "isJsonSchema": true,
       "metadata": {
        "dataframeName": "_sqldf",
        "executionCount": 10
       },
       "overflow": false,
       "plotOptions": {
        "customPlotOptions": {},
        "displayType": "table",
        "pivotAggregation": null,
        "pivotColumns": null,
        "xColumns": null,
        "yColumns": null
       },
       "removedWidgets": [],
       "schema": [
        {
         "metadata": "{}",
         "name": "num_affected_rows",
         "type": "\"long\""
        },
        {
         "metadata": "{}",
         "name": "num_inserted_rows",
         "type": "\"long\""
        }
       ],
       "type": "table"
      }
     },
     "output_type": "display_data"
    }
   ],
   "source": [
    "%sql\n",
    "insert into metadata_schema.tbl_parameters values\n",
    "(208,NULL,NULL,NULL,NULL,'dev_intermediate',NULL,NULL,'dev_curated','metrices_share',\"\n",
    "WITH result AS (\n",
    "    SELECT \n",
    "        dd.before_or_after_5g,\n",
    "        cities.city_name,\n",
    "        dd.month_name,\n",
    "        dd.time_period,\n",
    "        metrix.*\n",
    "    FROM \n",
    "        {intermediate_schema}.fact_metrices_share AS metrix\n",
    "    JOIN \n",
    "        {intermediate_schema}.dim_date AS dd ON metrix.dated = dd.dated\n",
    "    JOIN \n",
    "        {intermediate_schema}.dim_cities AS cities ON metrix.city_code = cities.city_code\n",
    ")\n",
    "MERGE INTO {curated_schema}.{curated_table} AS target\n",
    "USING result AS source\n",
    "ON source.seq_no = target.seq_no\n",
    "WHEN MATCHED THEN \n",
    "    UPDATE SET\n",
    "        target.before_or_after_5g = source.before_or_after_5g,\n",
    "        target.city_name = source.city_name,\n",
    "        target.month_name = source.month_name,\n",
    "        target.time_period = source.time_period,\n",
    "        target.dated = source.dated,\n",
    "        target.city_code = source.city_code,\n",
    "        target.company = source.company,\n",
    "        target.company_revenue_crores = source.company_revenue_crores,\n",
    "        target.arpu = source.arpu,\n",
    "        target.active_users_lakhs = source.active_users_lakhs,\n",
    "        target.unsubscribed_users_lakhs = source.unsubscribed_users_lakhs,\n",
    "        target.seq_no = source.seq_no,\n",
    "        target.last_inserted_dttm_azure = source.last_inserted_dttm_azure,\n",
    "        target.last_updated_dttm_aws = source.last_updated_dttm_aws,\n",
    "        target.loadId = '{loadId}'\n",
    "WHEN NOT MATCHED THEN\n",
    "    INSERT (\n",
    "        target.before_or_after_5g,\n",
    "        target.city_name,\n",
    "        target.month_name,\n",
    "        target.time_period,\n",
    "        target.dated,\n",
    "        target.city_code,\n",
    "        target.company,\n",
    "        target.company_revenue_crores,\n",
    "        target.arpu,\n",
    "        target.active_users_lakhs,\n",
    "        target.unsubscribed_users_lakhs,\n",
    "        target.seq_no,\n",
    "        target.last_inserted_dttm_azure,\n",
    "        target.last_updated_dttm_aws,\n",
    "        target.loadId\n",
    "    )\n",
    "    VALUES (\n",
    "        source.before_or_after_5g,\n",
    "        source.city_name,\n",
    "        source.month_name,\n",
    "        source.time_period,\n",
    "        source.dated,\n",
    "        source.city_code,\n",
    "        source.company,\n",
    "        source.company_revenue_crores,\n",
    "        source.arpu,\n",
    "        source.active_users_lakhs,\n",
    "        source.unsubscribed_users_lakhs,\n",
    "        source.seq_no,\n",
    "        source.last_inserted_dttm_azure,\n",
    "        source.last_updated_dttm_aws,\n",
    "        '{loadId}'\n",
    "    )\n",
    "\"),\n",
    "(209,NULL,NULL,NULL,NULL,'dev_intermediate',NULL,NULL,'dev_curated','market_share',\"\n",
    "WITH result AS (\n",
    "    SELECT \n",
    "        dd.before_or_after_5g,\n",
    "        cities.city_name,\n",
    "        dd.month_name,\n",
    "        dd.time_period,\n",
    "        fm.*\n",
    "    FROM \n",
    "        {intermediate_schema}.fact_market_share AS fm\n",
    "    JOIN \n",
    "        {intermediate_schema}.dim_date AS dd ON dd.dated = fm.dated\n",
    "    JOIN \n",
    "        {intermediate_schema}.dim_cities AS cities ON cities.city_code = fm.city_code\n",
    ")\n",
    "MERGE INTO {curated_schema}.{curated_table} AS target\n",
    "USING result AS source\n",
    "ON source.seq_no = target.seq_no\n",
    "WHEN MATCHED THEN \n",
    "    UPDATE SET\n",
    "        target.before_or_after_5g = source.before_or_after_5g,\n",
    "        target.city_name = source.city_name,\n",
    "        target.month_name = source.month_name,\n",
    "        target.time_period = source.time_period,\n",
    "        target.dated = source.dated,\n",
    "        target.city_code = source.city_code,\n",
    "        target.tmv_city_crores = source.tmv_city_crores,\n",
    "        target.company = source.company,\n",
    "        target.ms_pct = source.ms_pct,\n",
    "        target.seq_no = source.seq_no,\n",
    "        target.last_inserted_dttm_azure = source.last_inserted_dttm_azure,\n",
    "        target.last_updated_dttm_aws = source.last_updated_dttm_aws,\n",
    "        target.loadId = '{loadId}'\n",
    "WHEN NOT MATCHED THEN\n",
    "    INSERT (\n",
    "        target.before_or_after_5g,\n",
    "        target.city_name,\n",
    "        target.month_name,\n",
    "        target.time_period,\n",
    "        target.dated,\n",
    "        target.city_code,\n",
    "        target.tmv_city_crores,\n",
    "        target.company,\n",
    "        target.ms_pct,\n",
    "        target.seq_no,\n",
    "        target.last_inserted_dttm_azure,\n",
    "        target.last_updated_dttm_aws,\n",
    "        target.loadId\n",
    "    )\n",
    "    VALUES (\n",
    "        source.before_or_after_5g,\n",
    "        source.city_name,\n",
    "        source.month_name,\n",
    "        source.time_period,\n",
    "        source.dated,\n",
    "        source.city_code,\n",
    "        source.tmv_city_crores,\n",
    "        source.company,\n",
    "        source.ms_pct,\n",
    "        source.seq_no,\n",
    "        source.last_inserted_dttm_azure,\n",
    "        source.last_updated_dttm_aws,\n",
    "        '{loadId}'\n",
    "    )\n",
    "\"),\n",
    "(210,NULL,NULL,NULL,NULL,'dev_intermediate',NULL,NULL,'dev_curated','plan_revenue',\"\n",
    "WITH result AS (\n",
    "    SELECT\n",
    "        dd.before_or_after_5g,\n",
    "        cities.city_name,\n",
    "        dd.month_name,\n",
    "        dd.time_period,\n",
    "        pl.plan_description,\n",
    "        revenue.*\n",
    "    FROM \n",
    "        {intermediate_schema}.fact_plan_revenue AS revenue\n",
    "    JOIN \n",
    "        {intermediate_schema}.dim_date AS dd ON revenue.dated = dd.dated\n",
    "    JOIN \n",
    "        {intermediate_schema}.dim_cities AS cities ON revenue.city_code = cities.city_code\n",
    "    JOIN \n",
    "        {intermediate_schema}.dim_plan AS pl ON revenue.plans = pl.plan\n",
    ")\n",
    "MERGE INTO {curated_schema}.{curated_table} AS target\n",
    "USING result AS source\n",
    "ON source.seq_no = target.seq_no\n",
    "WHEN MATCHED THEN\n",
    "    UPDATE SET \n",
    "        target.before_or_after_5g = source.before_or_after_5g,\n",
    "        target.city_name = source.city_name,\n",
    "        target.month_name = source.month_name,\n",
    "        target.time_period = source.time_period,\n",
    "        target.plan_description = source.plan_description,\n",
    "        target.dated = source.dated,\n",
    "        target.city_code = source.city_code,\n",
    "        target.plan = source.plan,\n",
    "        target.plan_revenue_crores = source.plan_revenue_crores,\n",
    "        target.seq_no = source.seq_no,\n",
    "        target.last_inserted_dttm_azure = source.last_inserted_dttm_azure,\n",
    "        target.last_updated_dttm_aws = source.last_updated_dttm_aws,\n",
    "        target.loadId = '{loadId}'\n",
    "WHEN NOT MATCHED THEN\n",
    "    INSERT (\n",
    "        target.before_or_after_5g,\n",
    "        target.city_name,\n",
    "        target.month_name,\n",
    "        target.time_period,\n",
    "        target.plan_description,\n",
    "        target.dated,\n",
    "        target.city_code,\n",
    "        target.plan,\n",
    "        target.plan_revenue_crores,\n",
    "        target.seq_no,\n",
    "        target.last_inserted_dttm_azure,\n",
    "        target.last_updated_dttm_aws,\n",
    "        target.loadId\n",
    "    )\n",
    "    VALUES (\n",
    "        source.before_or_after_5g,\n",
    "        source.city_name,\n",
    "        source.month_name,\n",
    "        source.time_period,\n",
    "        source.plan_description,\n",
    "        source.dated,\n",
    "        source.city_code,\n",
    "        source.plan,\n",
    "        source.plan_revenue_crores,\n",
    "        source.seq_no,\n",
    "        source.last_inserted_dttm_azure,\n",
    "        source.last_updated_dttm_aws,\n",
    "        '{loadId}'\n",
    "    )\n",
    "\")"
   ]
  },
  {
   "cell_type": "code",
   "execution_count": 0,
   "metadata": {
    "application/vnd.databricks.v1+cell": {
     "cellMetadata": {
      "byteLimit": 2048000,
      "implicitDf": true,
      "rowLimit": 10000
     },
     "inputWidgets": {},
     "nuid": "2e3626f4-a8b4-4b7f-b8ad-2a2f3dc18649",
     "showTitle": false,
     "title": ""
    }
   },
   "outputs": [
    {
     "output_type": "display_data",
     "data": {
      "text/html": [
       "<style scoped>\n",
       "  .table-result-container {\n",
       "    max-height: 300px;\n",
       "    overflow: auto;\n",
       "  }\n",
       "  table, th, td {\n",
       "    border: 1px solid black;\n",
       "    border-collapse: collapse;\n",
       "  }\n",
       "  th, td {\n",
       "    padding: 5px;\n",
       "  }\n",
       "  th {\n",
       "    text-align: left;\n",
       "  }\n",
       "</style><div class='table-result-container'><table class='table-result'><thead style='background-color: white'><tr><th>job_id</th><th>source_file_path</th><th>watermark_column</th><th>raw_schema</th><th>raw_tbl</th><th>intermediate_schema</th><th>intermediate_tbl</th><th>intermediate_query</th><th>curated_schema</th><th>curated_tbl</th><th>curated_query</th></tr></thead><tbody><tr><td>207</td><td>telecom/fact_plan</td><td>2001-01-01T15:13:23.963Z</td><td>dev_raw</td><td>fact_plan_revenue</td><td>dev_intermediate</td><td>fact_plan_revenue</td><td>merge into {intermediate_schema}.{intermediate_table} target\n",
       "USING temp_view source\n",
       "ON target.loadId = source.loadId\n",
       "WHEN MATCHED THEN\n",
       "    UPDATE SET\n",
       "        target.dated = source.dated,\n",
       "        target.city_code = source.city_code,\n",
       "        target.plans = source.plans,\n",
       "        target.plan_revenue_crores = source.plan_revenue_crores,\n",
       "        target.seq_no = source.seq_no,\n",
       "        target.last_inserted_dttm_azure = source.last_inserted_dttm_azure,\n",
       "        target.last_updated_dttm_aws = source.last_updated_dttm_aws,\n",
       "        target.loadId = source.loadId\n",
       "WHEN NOT MATCHED THEN\n",
       "    INSERT (target.dated,\n",
       "      target.city_code,\n",
       "      target.plan,\n",
       "      target.plan_revenue_crores,\n",
       "      target.seq_no,\n",
       "      target.last_inserted_dttm_azure,\n",
       "      target.last_updated_dttm_aws,\n",
       "      target.loadId)\n",
       "    VALUES (source.dated, source.city_code, source.plans, source.plan_revenue_crores, source.seq_no, source.last_inserted_dttm_azure, source.last_updated_dttm_aws, source.loadId)</td><td>null</td><td>null</td><td>null</td></tr><tr><td>201</td><td>telecom/dim_cities</td><td>2001-01-01T15:13:23.963Z</td><td>dev_raw</td><td>dim_cities</td><td>dev_intermediate</td><td>dim_cities</td><td>null</td><td>null</td><td>null</td><td>null</td></tr><tr><td>202</td><td>telecom/dim_date</td><td>2001-01-01T15:13:23.963Z</td><td>dev_raw</td><td>dim_date</td><td>dev_intermediate</td><td>dim_date</td><td>null</td><td>null</td><td>null</td><td>null</td></tr><tr><td>204</td><td>telecom/dim_plan</td><td>2001-01-01T15:13:23.963Z</td><td>dev_raw</td><td>dim_plan</td><td>dev_intermediate</td><td>dim_plan</td><td>null</td><td>null</td><td>null</td><td>null</td></tr><tr><td>205</td><td>telecom/fact_company</td><td>2001-01-01T15:13:23.963Z</td><td>dev_raw</td><td>fact_metrices_share</td><td>dev_intermediate</td><td>fact_metrices_share</td><td>merge into {intermediate_schema}.{intermediate_table} target\n",
       "using temp_view source\n",
       "ON source.seq_no = target.seq_no\n",
       "WHEN MATCHED THEN\n",
       "    UPDATE SET\n",
       "        target.dated = source.dated,\n",
       "        target.city_code = source.city_code,\n",
       "        target.company = source.company,\n",
       "        target.company_revenue_crores = source.company_revenue_crores,\n",
       "        target.arpu = source.arpu,\n",
       "        target.active_users_lakhs = source.active_users_lakhs,\n",
       "        target.unsubscribed_users_lakhs = source.unsubscribed_users_lakhs,\n",
       "        target.seq_no = source.seq_no,\n",
       "        target.last_inserted_dttm_azure = source.last_inserted_dttm_azure,\n",
       "        target.last_updated_dttm_aws = source.last_updated_dttm_aws,\n",
       "        target.loadId = source.loadId\n",
       "WHEN NOT MATCHED THEN\n",
       "    insert (\n",
       "      target.dated,\n",
       "      target.city_code,\n",
       "      target.company,\n",
       "      target.company_revenue_crores,\n",
       "      target.arpu,\n",
       "      target.active_users_lakhs,\n",
       "      target.unsubscribed_users_lakhs,\n",
       "      target.seq_no,\n",
       "      target.last_inserted_dttm_azure,\n",
       "      target.last_updated_dttm_gcp,\n",
       "      target.loadId\n",
       "    )\n",
       "    values (\n",
       "      source.dated,\n",
       "      source.city_code,\n",
       "      source.company,\n",
       "      source.company_revenue_crores,\n",
       "      source.arpu,\n",
       "      source.active_users_lakhs,\n",
       "      source.unsubscribed_users_lakhs,\n",
       "      source.seq_no,\n",
       "      source.last_inserted_dttm_azure,\n",
       "      last_updated_dttm_aws,\n",
       "      source.loadId\n",
       "    )</td><td>null</td><td>null</td><td>null</td></tr><tr><td>206</td><td>telecom/fact_market</td><td>2001-01-01T15:13:23.963Z</td><td>dev_raw</td><td>fact_market_share</td><td>dev_intermediate</td><td>fact_market_share</td><td>merge into {intermediate_schema}.{intermediate_table} target\n",
       "using temp_view source\n",
       "on source.seq_no = target.seq_no\n",
       "when matched then\n",
       "update set\n",
       "target.dated = source.dated,\n",
       "target.city_code = source.city_code,\n",
       "target.tmv_city_crores = source.tmv_city_crores,\n",
       "target.company = source.company,\n",
       "target.ms_pct = source.ms_pct,\n",
       "target.seq_no = source.seq_no,\n",
       "target.last_inserted_dttm_azure = source.last_inserted_dttm_azure,\n",
       "target.last_updated_dttm_aws = source.last_updated_dttm_aws,\n",
       "target.loadId = source.loadId\n",
       "when not matched then\n",
       "insert (target.dated,\n",
       "      target.city_code,\n",
       "      target.tmv_city_crores,\n",
       "      target.company,\n",
       "      target.ms_pct,\n",
       "      target.seq_no,\n",
       "      target.last_inserted_dttm_azure,\n",
       "      target.last_updated_dttm_aws,\n",
       "      target.loadId)\n",
       "values (source.dated, source.city_code, source.tmv_city_crores, source.company, source.ms_pct, source.seq_no, source.last_inserted_dttm_azure, source.last_updated_dttm_aws, source.loadId)</td><td>null</td><td>null</td><td>null</td></tr><tr><td>208</td><td>null</td><td>null</td><td>null</td><td>null</td><td>dev_intermediate</td><td>null</td><td>null</td><td>dev_curated</td><td>metrices_share</td><td>WITH result AS (\n",
       "    SELECT \n",
       "        dd.before_or_after_5g,\n",
       "        cities.city_name,\n",
       "        dd.month_name,\n",
       "        dd.time_period,\n",
       "        metrix.*\n",
       "    FROM \n",
       "        {intermediate_schema}.fact_metrices_share AS metrix\n",
       "    JOIN \n",
       "        {intermediate_schema}.dim_date AS dd ON metrix.dated = dd.dated\n",
       "    JOIN \n",
       "        {intermediate_schema}.dim_cities AS cities ON metrix.city_code = cities.city_code\n",
       ")\n",
       "MERGE INTO {curated_schema}.{curated_table} AS target\n",
       "USING result AS source\n",
       "ON source.seq_no = target.seq_no\n",
       "WHEN MATCHED THEN \n",
       "    UPDATE SET\n",
       "        target.before_or_after_5g = source.before_or_after_5g,\n",
       "        target.city_name = source.city_name,\n",
       "        target.month_name = source.month_name,\n",
       "        target.time_period = source.time_period,\n",
       "        target.dated = source.dated,\n",
       "        target.city_code = source.city_code,\n",
       "        target.company = source.company,\n",
       "        target.company_revenue_crores = source.company_revenue_crores,\n",
       "        target.arpu = source.arpu,\n",
       "        target.active_users_lakhs = source.active_users_lakhs,\n",
       "        target.unsubscribed_users_lakhs = source.unsubscribed_users_lakhs,\n",
       "        target.seq_no = source.seq_no,\n",
       "        target.last_inserted_dttm_azure = source.last_inserted_dttm_azure,\n",
       "        target.last_updated_dttm_aws = source.last_updated_dttm_aws,\n",
       "        target.loadId = '{loadId}'\n",
       "WHEN NOT MATCHED THEN\n",
       "    INSERT (\n",
       "        target.before_or_after_5g,\n",
       "        target.city_name,\n",
       "        target.month_name,\n",
       "        target.time_period,\n",
       "        target.dated,\n",
       "        target.city_code,\n",
       "        target.company,\n",
       "        target.company_revenue_crores,\n",
       "        target.arpu,\n",
       "        target.active_users_lakhs,\n",
       "        target.unsubscribed_users_lakhs,\n",
       "        target.seq_no,\n",
       "        target.last_inserted_dttm_azure,\n",
       "        target.last_updated_dttm_aws,\n",
       "        target.loadId\n",
       "    )\n",
       "    VALUES (\n",
       "        source.before_or_after_5g,\n",
       "        source.city_name,\n",
       "        source.month_name,\n",
       "        source.time_period,\n",
       "        source.dated,\n",
       "        source.city_code,\n",
       "        source.company,\n",
       "        source.company_revenue_crores,\n",
       "        source.arpu,\n",
       "        source.active_users_lakhs,\n",
       "        source.unsubscribed_users_lakhs,\n",
       "        source.seq_no,\n",
       "        source.last_inserted_dttm_azure,\n",
       "        source.last_updated_dttm_aws,\n",
       "        '{loadId}'\n",
       "    )\n",
       "  </td></tr><tr><td>209</td><td>null</td><td>null</td><td>null</td><td>null</td><td>dev_intermediate</td><td>null</td><td>null</td><td>dev_curated</td><td>market_share</td><td>\n",
       "WITH result AS (\n",
       "    SELECT \n",
       "        dd.before_or_after_5g,\n",
       "        cities.city_name,\n",
       "        dd.month_name,\n",
       "        dd.time_period,\n",
       "        fm.*\n",
       "    FROM \n",
       "        {intermediate_schema}.fact_market_share AS fm\n",
       "    JOIN \n",
       "        {intermediate_schema}.dim_date AS dd ON dd.dated = fm.dated\n",
       "    JOIN \n",
       "        {intermediate_schema}.dim_cities AS cities ON cities.city_code = fm.city_code\n",
       ")\n",
       "MERGE INTO {curated_schema}.{curated_table} AS target\n",
       "USING result AS source\n",
       "ON source.seq_no = target.seq_no\n",
       "WHEN MATCHED THEN \n",
       "    UPDATE SET\n",
       "        target.before_or_after_5g = source.before_or_after_5g,\n",
       "        target.city_name = source.city_name,\n",
       "        target.month_name = source.month_name,\n",
       "        target.time_period = source.time_period,\n",
       "        target.dated = source.dated,\n",
       "        target.city_code = source.city_code,\n",
       "        target.tmv_city_crores = source.tmv_city_crores,\n",
       "        target.company = source.company,\n",
       "        target.ms_pct = source.ms_pct,\n",
       "        target.seq_no = source.seq_no,\n",
       "        target.last_inserted_dttm_azure = source.last_inserted_dttm_azure,\n",
       "        target.last_updated_dttm_aws = source.last_updated_dttm_aws,\n",
       "        target.loadId = '{loadId}'\n",
       "WHEN NOT MATCHED THEN\n",
       "    INSERT (\n",
       "        target.before_or_after_5g,\n",
       "        target.city_name,\n",
       "        target.month_name,\n",
       "        target.time_period,\n",
       "        target.dated,\n",
       "        target.city_code,\n",
       "        target.tmv_city_crores,\n",
       "        target.company,\n",
       "        target.ms_pct,\n",
       "        target.seq_no,\n",
       "        target.last_inserted_dttm_azure,\n",
       "        target.last_updated_dttm_aws,\n",
       "        target.loadId\n",
       "    )\n",
       "    VALUES (\n",
       "        source.before_or_after_5g,\n",
       "        source.city_name,\n",
       "        source.month_name,\n",
       "        source.time_period,\n",
       "        source.dated,\n",
       "        source.city_code,\n",
       "        source.tmv_city_crores,\n",
       "        source.company,\n",
       "        source.ms_pct,\n",
       "        source.seq_no,\n",
       "        source.last_inserted_dttm_azure,\n",
       "        source.last_updated_dttm_aws,\n",
       "        '{loadId}'\n",
       "    )\n",
       "</td></tr><tr><td>210</td><td>null</td><td>null</td><td>null</td><td>null</td><td>dev_intermediate</td><td>null</td><td>null</td><td>dev_curated</td><td>plan_revenue</td><td>\n",
       "WITH result AS (\n",
       "    SELECT\n",
       "        dd.before_or_after_5g,\n",
       "        cities.city_name,\n",
       "        dd.month_name,\n",
       "        dd.time_period,\n",
       "        pl.plan_description,\n",
       "        revenue.*\n",
       "    FROM \n",
       "        {intermediate_schema}.fact_plan_revenue AS revenue\n",
       "    JOIN \n",
       "        {intermediate_schema}.dim_date AS dd ON revenue.dated = dd.dated\n",
       "    JOIN \n",
       "        {intermediate_schema}.dim_cities AS cities ON revenue.city_code = cities.city_code\n",
       "    JOIN \n",
       "        {intermediate_schema}.dim_plan AS pl ON revenue.plan = pl.plan\n",
       ")\n",
       "MERGE INTO {curated_schema}.{curated_table} AS target\n",
       "USING result AS source\n",
       "ON source.seq_no = target.seq_no\n",
       "WHEN MATCHED THEN\n",
       "    UPDATE SET \n",
       "        target.before_or_after_5g = source.before_or_after_5g,\n",
       "        target.city_name = source.city_name,\n",
       "        target.month_name = source.month_name,\n",
       "        target.time_period = source.time_period,\n",
       "        target.plan_description = source.plan_description,\n",
       "        target.dated = source.dated,\n",
       "        target.city_code = source.city_code,\n",
       "        target.plan = source.plan,\n",
       "        target.plan_revenue_crores = source.plan_revenue_crores,\n",
       "        target.seq_no = source.seq_no,\n",
       "        target.last_inserted_dttm_azure = source.last_inserted_dttm_azure,\n",
       "        target.last_updated_dttm_aws = source.last_updated_dttm_aws,\n",
       "        target.loadId = '{loadId}'\n",
       "WHEN NOT MATCHED THEN\n",
       "    INSERT (\n",
       "        target.before_or_after_5g,\n",
       "        target.city_name,\n",
       "        target.month_name,\n",
       "        target.time_period,\n",
       "        target.plan_description,\n",
       "        target.dated,\n",
       "        target.city_code,\n",
       "        target.plan,\n",
       "        target.plan_revenue_crores,\n",
       "        target.seq_no,\n",
       "        target.last_inserted_dttm_azure,\n",
       "        target.last_updated_dttm_aws,\n",
       "        target.loadId\n",
       "    )\n",
       "    VALUES (\n",
       "        source.before_or_after_5g,\n",
       "        source.city_name,\n",
       "        source.month_name,\n",
       "        source.time_period,\n",
       "        source.plan_description,\n",
       "        source.dated,\n",
       "        source.city_code,\n",
       "        source.plan,\n",
       "        source.plan_revenue_crores,\n",
       "        source.seq_no,\n",
       "        source.last_inserted_dttm_azure,\n",
       "        source.last_updated_dttm_aws,\n",
       "        '{loadId}'\n",
       "    )\n",
       "</td></tr></tbody></table></div>"
      ]
     },
     "metadata": {
      "application/vnd.databricks.v1+output": {
       "addedWidgets": {},
       "aggData": [],
       "aggError": "",
       "aggOverflow": false,
       "aggSchema": [],
       "aggSeriesLimitReached": false,
       "aggType": "",
       "arguments": {},
       "columnCustomDisplayInfos": {},
       "data": [
        [
         207,
         "telecom/fact_plan",
         "2001-01-01T15:13:23.963Z",
         "dev_raw",
         "fact_plan_revenue",
         "dev_intermediate",
         "fact_plan_revenue",
         "merge into {intermediate_schema}.{intermediate_table} target\nUSING temp_view source\nON target.loadId = source.loadId\nWHEN MATCHED THEN\n    UPDATE SET\n        target.dated = source.dated,\n        target.city_code = source.city_code,\n        target.plans = source.plans,\n        target.plan_revenue_crores = source.plan_revenue_crores,\n        target.seq_no = source.seq_no,\n        target.last_inserted_dttm_azure = source.last_inserted_dttm_azure,\n        target.last_updated_dttm_aws = source.last_updated_dttm_aws,\n        target.loadId = source.loadId\nWHEN NOT MATCHED THEN\n    INSERT (target.dated,\n      target.city_code,\n      target.plan,\n      target.plan_revenue_crores,\n      target.seq_no,\n      target.last_inserted_dttm_azure,\n      target.last_updated_dttm_aws,\n      target.loadId)\n    VALUES (source.dated, source.city_code, source.plans, source.plan_revenue_crores, source.seq_no, source.last_inserted_dttm_azure, source.last_updated_dttm_aws, source.loadId)",
         null,
         null,
         null
        ],
        [
         201,
         "telecom/dim_cities",
         "2001-01-01T15:13:23.963Z",
         "dev_raw",
         "dim_cities",
         "dev_intermediate",
         "dim_cities",
         null,
         null,
         null,
         null
        ],
        [
         202,
         "telecom/dim_date",
         "2001-01-01T15:13:23.963Z",
         "dev_raw",
         "dim_date",
         "dev_intermediate",
         "dim_date",
         null,
         null,
         null,
         null
        ],
        [
         204,
         "telecom/dim_plan",
         "2001-01-01T15:13:23.963Z",
         "dev_raw",
         "dim_plan",
         "dev_intermediate",
         "dim_plan",
         null,
         null,
         null,
         null
        ],
        [
         205,
         "telecom/fact_company",
         "2001-01-01T15:13:23.963Z",
         "dev_raw",
         "fact_metrices_share",
         "dev_intermediate",
         "fact_metrices_share",
         "merge into {intermediate_schema}.{intermediate_table} target\nusing temp_view source\nON source.seq_no = target.seq_no\nWHEN MATCHED THEN\n    UPDATE SET\n        target.dated = source.dated,\n        target.city_code = source.city_code,\n        target.company = source.company,\n        target.company_revenue_crores = source.company_revenue_crores,\n        target.arpu = source.arpu,\n        target.active_users_lakhs = source.active_users_lakhs,\n        target.unsubscribed_users_lakhs = source.unsubscribed_users_lakhs,\n        target.seq_no = source.seq_no,\n        target.last_inserted_dttm_azure = source.last_inserted_dttm_azure,\n        target.last_updated_dttm_aws = source.last_updated_dttm_aws,\n        target.loadId = source.loadId\nWHEN NOT MATCHED THEN\n    insert (\n      target.dated,\n      target.city_code,\n      target.company,\n      target.company_revenue_crores,\n      target.arpu,\n      target.active_users_lakhs,\n      target.unsubscribed_users_lakhs,\n      target.seq_no,\n      target.last_inserted_dttm_azure,\n      target.last_updated_dttm_gcp,\n      target.loadId\n    )\n    values (\n      source.dated,\n      source.city_code,\n      source.company,\n      source.company_revenue_crores,\n      source.arpu,\n      source.active_users_lakhs,\n      source.unsubscribed_users_lakhs,\n      source.seq_no,\n      source.last_inserted_dttm_azure,\n      last_updated_dttm_aws,\n      source.loadId\n    )",
         null,
         null,
         null
        ],
        [
         206,
         "telecom/fact_market",
         "2001-01-01T15:13:23.963Z",
         "dev_raw",
         "fact_market_share",
         "dev_intermediate",
         "fact_market_share",
         "merge into {intermediate_schema}.{intermediate_table} target\nusing temp_view source\non source.seq_no = target.seq_no\nwhen matched then\nupdate set\ntarget.dated = source.dated,\ntarget.city_code = source.city_code,\ntarget.tmv_city_crores = source.tmv_city_crores,\ntarget.company = source.company,\ntarget.ms_pct = source.ms_pct,\ntarget.seq_no = source.seq_no,\ntarget.last_inserted_dttm_azure = source.last_inserted_dttm_azure,\ntarget.last_updated_dttm_aws = source.last_updated_dttm_aws,\ntarget.loadId = source.loadId\nwhen not matched then\ninsert (target.dated,\n      target.city_code,\n      target.tmv_city_crores,\n      target.company,\n      target.ms_pct,\n      target.seq_no,\n      target.last_inserted_dttm_azure,\n      target.last_updated_dttm_aws,\n      target.loadId)\nvalues (source.dated, source.city_code, source.tmv_city_crores, source.company, source.ms_pct, source.seq_no, source.last_inserted_dttm_azure, source.last_updated_dttm_aws, source.loadId)",
         null,
         null,
         null
        ],
        [
         208,
         null,
         null,
         null,
         null,
         "dev_intermediate",
         null,
         null,
         "dev_curated",
         "metrices_share",
         "WITH result AS (\n    SELECT \n        dd.before_or_after_5g,\n        cities.city_name,\n        dd.month_name,\n        dd.time_period,\n        metrix.*\n    FROM \n        {intermediate_schema}.fact_metrices_share AS metrix\n    JOIN \n        {intermediate_schema}.dim_date AS dd ON metrix.dated = dd.dated\n    JOIN \n        {intermediate_schema}.dim_cities AS cities ON metrix.city_code = cities.city_code\n)\nMERGE INTO {curated_schema}.{curated_table} AS target\nUSING result AS source\nON source.seq_no = target.seq_no\nWHEN MATCHED THEN \n    UPDATE SET\n        target.before_or_after_5g = source.before_or_after_5g,\n        target.city_name = source.city_name,\n        target.month_name = source.month_name,\n        target.time_period = source.time_period,\n        target.dated = source.dated,\n        target.city_code = source.city_code,\n        target.company = source.company,\n        target.company_revenue_crores = source.company_revenue_crores,\n        target.arpu = source.arpu,\n        target.active_users_lakhs = source.active_users_lakhs,\n        target.unsubscribed_users_lakhs = source.unsubscribed_users_lakhs,\n        target.seq_no = source.seq_no,\n        target.last_inserted_dttm_azure = source.last_inserted_dttm_azure,\n        target.last_updated_dttm_aws = source.last_updated_dttm_aws,\n        target.loadId = '{loadId}'\nWHEN NOT MATCHED THEN\n    INSERT (\n        target.before_or_after_5g,\n        target.city_name,\n        target.month_name,\n        target.time_period,\n        target.dated,\n        target.city_code,\n        target.company,\n        target.company_revenue_crores,\n        target.arpu,\n        target.active_users_lakhs,\n        target.unsubscribed_users_lakhs,\n        target.seq_no,\n        target.last_inserted_dttm_azure,\n        target.last_updated_dttm_aws,\n        target.loadId\n    )\n    VALUES (\n        source.before_or_after_5g,\n        source.city_name,\n        source.month_name,\n        source.time_period,\n        source.dated,\n        source.city_code,\n        source.company,\n        source.company_revenue_crores,\n        source.arpu,\n        source.active_users_lakhs,\n        source.unsubscribed_users_lakhs,\n        source.seq_no,\n        source.last_inserted_dttm_azure,\n        source.last_updated_dttm_aws,\n        '{loadId}'\n    )\n  "
        ],
        [
         209,
         null,
         null,
         null,
         null,
         "dev_intermediate",
         null,
         null,
         "dev_curated",
         "market_share",
         "\nWITH result AS (\n    SELECT \n        dd.before_or_after_5g,\n        cities.city_name,\n        dd.month_name,\n        dd.time_period,\n        fm.*\n    FROM \n        {intermediate_schema}.fact_market_share AS fm\n    JOIN \n        {intermediate_schema}.dim_date AS dd ON dd.dated = fm.dated\n    JOIN \n        {intermediate_schema}.dim_cities AS cities ON cities.city_code = fm.city_code\n)\nMERGE INTO {curated_schema}.{curated_table} AS target\nUSING result AS source\nON source.seq_no = target.seq_no\nWHEN MATCHED THEN \n    UPDATE SET\n        target.before_or_after_5g = source.before_or_after_5g,\n        target.city_name = source.city_name,\n        target.month_name = source.month_name,\n        target.time_period = source.time_period,\n        target.dated = source.dated,\n        target.city_code = source.city_code,\n        target.tmv_city_crores = source.tmv_city_crores,\n        target.company = source.company,\n        target.ms_pct = source.ms_pct,\n        target.seq_no = source.seq_no,\n        target.last_inserted_dttm_azure = source.last_inserted_dttm_azure,\n        target.last_updated_dttm_aws = source.last_updated_dttm_aws,\n        target.loadId = '{loadId}'\nWHEN NOT MATCHED THEN\n    INSERT (\n        target.before_or_after_5g,\n        target.city_name,\n        target.month_name,\n        target.time_period,\n        target.dated,\n        target.city_code,\n        target.tmv_city_crores,\n        target.company,\n        target.ms_pct,\n        target.seq_no,\n        target.last_inserted_dttm_azure,\n        target.last_updated_dttm_aws,\n        target.loadId\n    )\n    VALUES (\n        source.before_or_after_5g,\n        source.city_name,\n        source.month_name,\n        source.time_period,\n        source.dated,\n        source.city_code,\n        source.tmv_city_crores,\n        source.company,\n        source.ms_pct,\n        source.seq_no,\n        source.last_inserted_dttm_azure,\n        source.last_updated_dttm_aws,\n        '{loadId}'\n    )\n"
        ],
        [
         210,
         null,
         null,
         null,
         null,
         "dev_intermediate",
         null,
         null,
         "dev_curated",
         "plan_revenue",
         "\nWITH result AS (\n    SELECT\n        dd.before_or_after_5g,\n        cities.city_name,\n        dd.month_name,\n        dd.time_period,\n        pl.plan_description,\n        revenue.*\n    FROM \n        {intermediate_schema}.fact_plan_revenue AS revenue\n    JOIN \n        {intermediate_schema}.dim_date AS dd ON revenue.dated = dd.dated\n    JOIN \n        {intermediate_schema}.dim_cities AS cities ON revenue.city_code = cities.city_code\n    JOIN \n        {intermediate_schema}.dim_plan AS pl ON revenue.plan = pl.plan\n)\nMERGE INTO {curated_schema}.{curated_table} AS target\nUSING result AS source\nON source.seq_no = target.seq_no\nWHEN MATCHED THEN\n    UPDATE SET \n        target.before_or_after_5g = source.before_or_after_5g,\n        target.city_name = source.city_name,\n        target.month_name = source.month_name,\n        target.time_period = source.time_period,\n        target.plan_description = source.plan_description,\n        target.dated = source.dated,\n        target.city_code = source.city_code,\n        target.plan = source.plan,\n        target.plan_revenue_crores = source.plan_revenue_crores,\n        target.seq_no = source.seq_no,\n        target.last_inserted_dttm_azure = source.last_inserted_dttm_azure,\n        target.last_updated_dttm_aws = source.last_updated_dttm_aws,\n        target.loadId = '{loadId}'\nWHEN NOT MATCHED THEN\n    INSERT (\n        target.before_or_after_5g,\n        target.city_name,\n        target.month_name,\n        target.time_period,\n        target.plan_description,\n        target.dated,\n        target.city_code,\n        target.plan,\n        target.plan_revenue_crores,\n        target.seq_no,\n        target.last_inserted_dttm_azure,\n        target.last_updated_dttm_aws,\n        target.loadId\n    )\n    VALUES (\n        source.before_or_after_5g,\n        source.city_name,\n        source.month_name,\n        source.time_period,\n        source.plan_description,\n        source.dated,\n        source.city_code,\n        source.plan,\n        source.plan_revenue_crores,\n        source.seq_no,\n        source.last_inserted_dttm_azure,\n        source.last_updated_dttm_aws,\n        '{loadId}'\n    )\n"
        ]
       ],
       "datasetInfos": [],
       "dbfsResultPath": null,
       "isJsonSchema": true,
       "metadata": {
        "dataframeName": "_sqldf",
        "executionCount": 12
       },
       "overflow": false,
       "plotOptions": {
        "customPlotOptions": {},
        "displayType": "table",
        "pivotAggregation": null,
        "pivotColumns": null,
        "xColumns": null,
        "yColumns": null
       },
       "removedWidgets": [],
       "schema": [
        {
         "metadata": "{}",
         "name": "job_id",
         "type": "\"integer\""
        },
        {
         "metadata": "{}",
         "name": "source_file_path",
         "type": "\"string\""
        },
        {
         "metadata": "{}",
         "name": "watermark_column",
         "type": "\"timestamp\""
        },
        {
         "metadata": "{}",
         "name": "raw_schema",
         "type": "\"string\""
        },
        {
         "metadata": "{}",
         "name": "raw_tbl",
         "type": "\"string\""
        },
        {
         "metadata": "{}",
         "name": "intermediate_schema",
         "type": "\"string\""
        },
        {
         "metadata": "{}",
         "name": "intermediate_tbl",
         "type": "\"string\""
        },
        {
         "metadata": "{}",
         "name": "intermediate_query",
         "type": "\"string\""
        },
        {
         "metadata": "{}",
         "name": "curated_schema",
         "type": "\"string\""
        },
        {
         "metadata": "{}",
         "name": "curated_tbl",
         "type": "\"string\""
        },
        {
         "metadata": "{}",
         "name": "curated_query",
         "type": "\"string\""
        }
       ],
       "type": "table"
      }
     },
     "output_type": "display_data"
    }
   ],
   "source": [
    "%sql\n",
    "select * from metadata_schema.tbl_parameters;"
   ]
  },
  {
   "cell_type": "code",
   "execution_count": 0,
   "metadata": {
    "application/vnd.databricks.v1+cell": {
     "cellMetadata": {
      "byteLimit": 2048000,
      "implicitDf": true,
      "rowLimit": 10000
     },
     "inputWidgets": {},
     "nuid": "e283857d-c99a-441e-ab3f-b79e1f439c8a",
     "showTitle": false,
     "title": ""
    }
   },
   "outputs": [
    {
     "output_type": "display_data",
     "data": {
      "text/html": [
       "<style scoped>\n",
       "  .table-result-container {\n",
       "    max-height: 300px;\n",
       "    overflow: auto;\n",
       "  }\n",
       "  table, th, td {\n",
       "    border: 1px solid black;\n",
       "    border-collapse: collapse;\n",
       "  }\n",
       "  th, td {\n",
       "    padding: 5px;\n",
       "  }\n",
       "  th {\n",
       "    text-align: left;\n",
       "  }\n",
       "</style><div class='table-result-container'><table class='table-result'><thead style='background-color: white'><tr></tr></thead><tbody></tbody></table></div>"
      ]
     },
     "metadata": {
      "application/vnd.databricks.v1+output": {
       "addedWidgets": {},
       "aggData": [],
       "aggError": "",
       "aggOverflow": false,
       "aggSchema": [],
       "aggSeriesLimitReached": false,
       "aggType": "",
       "arguments": {},
       "columnCustomDisplayInfos": {},
       "data": [],
       "datasetInfos": [],
       "dbfsResultPath": null,
       "isJsonSchema": true,
       "metadata": {
        "dataframeName": null
       },
       "overflow": false,
       "plotOptions": {
        "customPlotOptions": {},
        "displayType": "table",
        "pivotAggregation": null,
        "pivotColumns": null,
        "xColumns": null,
        "yColumns": null
       },
       "removedWidgets": [],
       "schema": [],
       "type": "table"
      }
     },
     "output_type": "display_data"
    }
   ],
   "source": [
    "%sql\n",
    "truncate table metadata_schema.tbl_parameters;"
   ]
  }
 ],
 "metadata": {
  "application/vnd.databricks.v1+notebook": {
   "dashboards": [],
   "environmentMetadata": null,
   "language": "python",
   "notebookMetadata": {
    "mostRecentlyExecutedCommandWithImplicitDF": {
     "commandId": 2960233047344538,
     "dataframes": [
      "_sqldf"
     ]
    },
    "pythonIndentUnit": 4
   },
   "notebookName": "metadata_tables_insert_awsS3_scripts",
   "widgets": {
    "adls_url": {
     "currentValue": "https://csadlsgen2project2.dfs.core.windows.net/",
     "nuid": "f1dec740-9646-46a0-b466-988d8cad4f49",
     "typedWidgetInfo": {
      "autoCreated": false,
      "defaultValue": "",
      "label": null,
      "name": "adls_url",
      "options": {
       "widgetDisplayType": "Text",
       "validationRegex": null
      },
      "parameterDataType": "String"
     },
     "widgetInfo": {
      "widgetType": "text",
      "defaultValue": "",
      "label": null,
      "name": "adls_url",
      "options": {
       "widgetType": "text",
       "autoCreated": null,
       "validationRegex": null
      }
     }
    },
    "aws_source_bucket": {
     "currentValue": "telecom-adf",
     "nuid": "2ddb7229-5b01-468e-80bb-8cc61c4c9e2c",
     "typedWidgetInfo": {
      "autoCreated": false,
      "defaultValue": "",
      "label": null,
      "name": "aws_source_bucket",
      "options": {
       "widgetDisplayType": "Text",
       "validationRegex": null
      },
      "parameterDataType": "String"
     },
     "widgetInfo": {
      "widgetType": "text",
      "defaultValue": "",
      "label": null,
      "name": "aws_source_bucket",
      "options": {
       "widgetType": "text",
       "autoCreated": null,
       "validationRegex": null
      }
     }
    },
    "email_id": {
     "currentValue": "mahakajju30@gmail.com",
     "nuid": "3d7af67f-9b02-405b-89e6-d051e6da40d6",
     "typedWidgetInfo": {
      "autoCreated": false,
      "defaultValue": "",
      "label": null,
      "name": "email_id",
      "options": {
       "widgetDisplayType": "Text",
       "validationRegex": null
      },
      "parameterDataType": "String"
     },
     "widgetInfo": {
      "widgetType": "text",
      "defaultValue": "",
      "label": null,
      "name": "email_id",
      "options": {
       "widgetType": "text",
       "autoCreated": null,
       "validationRegex": null
      }
     }
    },
    "env": {
     "currentValue": "dev",
     "nuid": "aa1288d6-3e51-459d-a6b4-0976929be4ae",
     "typedWidgetInfo": {
      "autoCreated": false,
      "defaultValue": "",
      "label": null,
      "name": "env",
      "options": {
       "widgetDisplayType": "Text",
       "validationRegex": null
      },
      "parameterDataType": "String"
     },
     "widgetInfo": {
      "widgetType": "text",
      "defaultValue": "",
      "label": null,
      "name": "env",
      "options": {
       "widgetType": "text",
       "autoCreated": null,
       "validationRegex": null
      }
     }
    },
    "logic_app_url": {
     "currentValue": "https://prod-13.centralindia.logic.azure.com:443/workflows/31906722475143579d25daded276186b/triggers/When_a_HTTP_request_is_received/paths/invoke?api-version=2016-10-01&sp=%2Ftriggers%2FWhen_a_HTTP_request_is_received%2Frun&sv=1.0&sig=4Lgbpni28PAA93QRNi0L9wQ3wNVmArg5TDb2-dJTDGo",
     "nuid": "756ecd2b-48a6-4103-a9e2-d16741e9f5a0",
     "typedWidgetInfo": {
      "autoCreated": false,
      "defaultValue": "",
      "label": null,
      "name": "logic_app_url",
      "options": {
       "widgetDisplayType": "Text",
       "validationRegex": null
      },
      "parameterDataType": "String"
     },
     "widgetInfo": {
      "widgetType": "text",
      "defaultValue": "",
      "label": null,
      "name": "logic_app_url",
      "options": {
       "widgetType": "text",
       "autoCreated": null,
       "validationRegex": null
      }
     }
    },
    "storage_account_name": {
     "currentValue": "csadlsgen2project2",
     "nuid": "d8495a75-b7bd-4f8d-9822-e105e6d6be11",
     "typedWidgetInfo": {
      "autoCreated": false,
      "defaultValue": "",
      "label": null,
      "name": "storage_account_name",
      "options": {
       "widgetDisplayType": "Text",
       "validationRegex": null
      },
      "parameterDataType": "String"
     },
     "widgetInfo": {
      "widgetType": "text",
      "defaultValue": "",
      "label": null,
      "name": "storage_account_name",
      "options": {
       "widgetType": "text",
       "autoCreated": null,
       "validationRegex": null
      }
     }
    }
   }
  },
  "language_info": {
   "name": "python"
  }
 },
 "nbformat": 4,
 "nbformat_minor": 0
}
